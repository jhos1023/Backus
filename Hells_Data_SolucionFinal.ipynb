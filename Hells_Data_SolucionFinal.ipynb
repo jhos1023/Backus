{
  "nbformat": 4,
  "nbformat_minor": 0,
  "metadata": {
    "kernelspec": {
      "display_name": "Python 3",
      "language": "python",
      "name": "python3"
    },
    "language_info": {
      "codemirror_mode": {
        "name": "ipython",
        "version": 3
      },
      "file_extension": ".py",
      "mimetype": "text/x-python",
      "name": "python",
      "nbconvert_exporter": "python",
      "pygments_lexer": "ipython3",
      "version": "3.8.3"
    },
    "colab": {
      "name": "Hells_Data_SolucionFinal.ipynb",
      "provenance": [],
      "collapsed_sections": []
    }
  },
  "cells": [
    {
      "cell_type": "code",
      "metadata": {
        "colab": {
          "base_uri": "https://localhost:8080/"
        },
        "id": "Zr7uu0twKX1q",
        "outputId": "826dcc39-8cc0-468a-b094-93e870765620"
      },
      "source": [
        "from google.colab import drive\n",
        "drive.mount('/content/drive')"
      ],
      "execution_count": 683,
      "outputs": [
        {
          "output_type": "stream",
          "text": [
            "Drive already mounted at /content/drive; to attempt to forcibly remount, call drive.mount(\"/content/drive\", force_remount=True).\n"
          ],
          "name": "stdout"
        }
      ]
    },
    {
      "cell_type": "code",
      "metadata": {
        "id": "Wq-1bEYdKNTc"
      },
      "source": [
        "import pandas as pd \n",
        "import numpy as np\n",
        "# url = \"C:/Users/User/Desktop/backus\"\n",
        "url = \"/content/drive/MyDrive/Colab Notebooks/brewingdatacup/data\"\n",
        "promos_activas = pd.read_csv(url+\"/active_promos.csv\")\n",
        "clientes_atributos = pd.read_csv(url+\"/clients_attributes.csv\")\n",
        "promos_ejecutadas = pd.read_csv(url+\"/executed_promos.csv\")\n",
        "sales = pd.read_csv(url+\"/sales.csv\",encoding=\"latin-1\")"
      ],
      "execution_count": 684,
      "outputs": []
    },
    {
      "cell_type": "code",
      "metadata": {
        "id": "P2RuQJe4Pp1H"
      },
      "source": [
        "from sklearn.cluster import KMeans\n",
        "cliente_procesado = sales.merge(clientes_atributos, on='Cliente',how='inner')\n",
        "\n",
        "# tomo 2019-09-01 como fecha actual\n",
        "import datetime\n",
        "snapshot_date = max(pd.to_datetime(pd.Series('2019-09-01')))\n",
        "snapshot_date\n",
        "\n",
        "# convierto FechaAltaCliente a datetime\n",
        "cliente_procesado['FechaAltaCliente']=pd.to_datetime(cliente_procesado['FechaAltaCliente'])\n",
        "\n",
        "# creo FechaVenta, es una aproximacion a la fecha en que se realizó cada venta\n",
        "# como solo tenemos el año y el mes, entonces el día se coloca como el primer día del mes\n",
        "cliente_procesado['FechaVenta'] = cliente_procesado['Año'].map(str)+\"-\"+cliente_procesado['Mes'].map(str)+\"-01\"\n",
        "cliente_procesado['FechaVenta'] = pd.to_datetime(cliente_procesado['FechaVenta'])\n",
        "\n",
        "# Tenure, indica los días que han pasado desde la primera compra\n",
        "cliente_procesado['Tenure'] = pd.to_datetime(cliente_procesado['FechaVenta'])\n",
        "\n",
        "# Realizo las agregaciones\n",
        "grupo = cliente_procesado.groupby(['Cliente']).agg({\n",
        "    'Nr':'sum',\n",
        "    'Dcto':'sum',\n",
        "    'Mes':'count', # conteo de las ventas por cliente\n",
        "    'FechaAltaCliente': lambda x: (snapshot_date - x.max()).days,\n",
        "    'FechaVenta': lambda x: (snapshot_date - x.max()).days,\n",
        "    'Tenure': lambda x: (snapshot_date - x.min()).days,\n",
        "})\n",
        "\n",
        "grupo.rename(columns={\n",
        "    'Nr':'SUMA_MONTO',\n",
        "    'Dct':'SUMA_dcto',\n",
        "    'Mes':'FRECUENCIA', # cantidad de ventas\n",
        "    'FechaAltaCliente':'AntiguedadCliente',\n",
        "    'FechaVenta':'RECENCIA', # hace cuantos días fue su última compra\n",
        "    'Tenure':'TENURE' # tiempo en días desde la primera compra\n",
        "},inplace=True)\n",
        "\n",
        "# selecciona las variables a usar\n",
        "datamart = grupo[['SUMA_MONTO','FRECUENCIA','RECENCIA','TENURE']]\n",
        "\n",
        "# Preprocesamiento de los datos antes de aplicar kmeans para crear clusters\n",
        "datamart_log = np.log(datamart+1)\n",
        "\n",
        "from sklearn.preprocessing import StandardScaler\n",
        "scaler = StandardScaler()\n",
        "scaler.fit(datamart_log)\n",
        "\n",
        "datamart_normalized = scaler.transform(datamart_log)\n",
        "\n",
        "# 2 clusters\n",
        "kmeans = KMeans(n_clusters=2,random_state=1)\n",
        "kmeans.fit(datamart_normalized)\n",
        "cluster_labels = kmeans.labels_\n",
        "datamart_k2 = datamart.assign(Cluster = cluster_labels)\n",
        "\n",
        "# 3 clusters\n",
        "kmeans = KMeans(n_clusters=3,random_state=1)\n",
        "kmeans.fit(datamart_normalized)\n",
        "cluster_labels = kmeans.labels_\n",
        "datamart_k3 = datamart.assign(Cluster = cluster_labels)\n",
        "\n",
        "# 4 clusters\n",
        "kmeans = KMeans(n_clusters=4,random_state=1)\n",
        "kmeans.fit(datamart_normalized)\n",
        "cluster_labels = kmeans.labels_\n",
        "datamart_k4 = datamart.assign(Cluster = cluster_labels)\n",
        "\n",
        "# 5 clusters\n",
        "kmeans = KMeans(n_clusters=5,random_state=1)\n",
        "kmeans.fit(datamart_normalized)\n",
        "cluster_labels = kmeans.labels_\n",
        "datamart_k5 = datamart.assign(Cluster = cluster_labels)\n",
        "\n",
        "# Cliente estaba como indice y ahora pasa a ser columna\n",
        "clusters_c2 = datamart_k2.reset_index()\n",
        "clusters_c3 = datamart_k3.reset_index()\n",
        "clusters_c4 = datamart_k4.reset_index()\n",
        "clusters_c5 = datamart_k5.reset_index()\n",
        "\n",
        "clusters_c2 = clusters_c2.add_suffix('_C2')\n",
        "clusters_c2.rename(columns={'Cliente_C2':'Cliente'},inplace=True)\n",
        "clusters_c3 = clusters_c3.add_suffix('_C3')\n",
        "clusters_c3.rename(columns={'Cliente_C3':'Cliente'},inplace=True)\n",
        "clusters_c4 = clusters_c4.add_suffix('_C4')\n",
        "clusters_c4.rename(columns={'Cliente_C4':'Cliente'},inplace=True)\n",
        "clusters_c5 = clusters_c5.add_suffix('_C5')\n",
        "clusters_c5.rename(columns={'Cliente_C5':'Cliente'},inplace=True)\n",
        "\n",
        "clusters = clusters_c2.merge(clusters_c3,how='inner',on='Cliente')\n",
        "clusters = clusters.merge(clusters_c4,how='inner',on='Cliente')\n",
        "clusters = clusters.merge(clusters_c5,how='inner',on='Cliente')\n",
        "\n",
        "# lo siguiente es con lo que puedes hacerle un merge a clientes, para que tengan las columnas de clustering\n",
        "# puedes probar con cada uno de los clusters\n",
        "clusters[['Cliente','Cluster_C2','Cluster_C3','Cluster_C4','Cluster_C5']]\n",
        "\n",
        "# Visualizar info de clusters\n",
        "def watch_cluster(datamart_kc,columna_cluster):\n",
        "  data_segmentos = datamart_kc.groupby([columna_cluster]).agg({\n",
        "    'RECENCIA':'mean',\n",
        "    'FRECUENCIA':'mean',\n",
        "    'TENURE':'mean',\n",
        "    'SUMA_MONTO':['mean','count']\n",
        "  }).round(0)\n",
        "  print(data_segmentos)"
      ],
      "execution_count": 685,
      "outputs": []
    },
    {
      "cell_type": "code",
      "metadata": {
        "id": "CDrKTZrzKNTd"
      },
      "source": [
        "#1) Promociones ejecutadas - activas\n",
        "promos_ejecutadas[\"Flag_ejecutada\"] = promos_ejecutadas[\"CodigoDC\"]\n",
        "promoDF = promos_activas.merge(promos_ejecutadas,on=[\"Cliente\",\"Marca\",\"Cupo\",\"CodigoDC\"],how=\"left\")\n",
        "promoDF[\"Resta_Mes\"]=(pd.to_datetime(promoDF[\"Fecha_Hasta\"]).dt.month-pd.to_datetime(promoDF[\"Fecha_Desde\"]).dt.month)\n",
        "promoDF[\"Flag_ejecutada\"] = np.where(promoDF[\"Flag_ejecutada\"]>0,1,0)\n",
        "promoDF[\"dias\"]=(pd.to_datetime(promoDF[\"Fecha_Hasta\"]).dt.day-pd.to_datetime(promoDF[\"Fecha_Desde\"]).dt.day)"
      ],
      "execution_count": 686,
      "outputs": []
    },
    {
      "cell_type": "code",
      "metadata": {
        "id": "tm4D8q7IKNTe"
      },
      "source": [
        "sales[\"ClaseEnvase\"] =sales[\"ClaseEnvase\"]-1\n",
        "sales[\"SegmentoPrecio\"] =sales[\"SegmentoPrecio\"]-1"
      ],
      "execution_count": 687,
      "outputs": []
    },
    {
      "cell_type": "code",
      "metadata": {
        "id": "azYKU_Q8KNTe"
      },
      "source": [
        "clientes_atributos[\"TipoPoblacion\"] =clientes_atributos[\"TipoPoblacion\"] -1"
      ],
      "execution_count": 688,
      "outputs": []
    },
    {
      "cell_type": "code",
      "metadata": {
        "colab": {
          "base_uri": "https://localhost:8080/"
        },
        "id": "y3vnskRKKNTe",
        "outputId": "02580f1b-339c-4927-9a33-9921d3d5f247"
      },
      "source": [
        "promoDF_5= promoDF[promoDF[\"Resta_Mes\"]==5]\n",
        "promoDF_5[\"dias\"] = 160"
      ],
      "execution_count": 689,
      "outputs": [
        {
          "output_type": "stream",
          "text": [
            "/usr/local/lib/python3.6/dist-packages/ipykernel_launcher.py:2: SettingWithCopyWarning: \n",
            "A value is trying to be set on a copy of a slice from a DataFrame.\n",
            "Try using .loc[row_indexer,col_indexer] = value instead\n",
            "\n",
            "See the caveats in the documentation: https://pandas.pydata.org/pandas-docs/stable/user_guide/indexing.html#returning-a-view-versus-a-copy\n",
            "  \n"
          ],
          "name": "stderr"
        }
      ]
    },
    {
      "cell_type": "code",
      "metadata": {
        "id": "BxfbOcwkKNTh"
      },
      "source": [
        "promoDF = promoDF[promoDF[\"Resta_Mes\"]!=5]"
      ],
      "execution_count": 690,
      "outputs": []
    },
    {
      "cell_type": "code",
      "metadata": {
        "colab": {
          "base_uri": "https://localhost:8080/",
          "height": 419
        },
        "id": "jzqrzjMMKNTi",
        "outputId": "704db42b-71b3-40ea-e8af-78291b84666d"
      },
      "source": [
        "promoDF[\"campañas\"]=pd.to_datetime(promoDF[\"Fecha_Hasta\"]).dt.year.astype(str)+pd.to_datetime(promoDF[\"Fecha_Hasta\"]).dt.month.astype(str)\n",
        "promoDF1=promoDF[[\"Cupo\",\"Marca\",\"Cliente\",\"Flag_ejecutada\",\"campañas\",\"Resta_Mes\",\"Fecha_Hasta\",\"Fecha_Desde\",\"dias\"]]\n",
        "promoDF1"
      ],
      "execution_count": 691,
      "outputs": [
        {
          "output_type": "execute_result",
          "data": {
            "text/html": [
              "<div>\n",
              "<style scoped>\n",
              "    .dataframe tbody tr th:only-of-type {\n",
              "        vertical-align: middle;\n",
              "    }\n",
              "\n",
              "    .dataframe tbody tr th {\n",
              "        vertical-align: top;\n",
              "    }\n",
              "\n",
              "    .dataframe thead th {\n",
              "        text-align: right;\n",
              "    }\n",
              "</style>\n",
              "<table border=\"1\" class=\"dataframe\">\n",
              "  <thead>\n",
              "    <tr style=\"text-align: right;\">\n",
              "      <th></th>\n",
              "      <th>Cupo</th>\n",
              "      <th>Marca</th>\n",
              "      <th>Cliente</th>\n",
              "      <th>Flag_ejecutada</th>\n",
              "      <th>campañas</th>\n",
              "      <th>Resta_Mes</th>\n",
              "      <th>Fecha_Hasta</th>\n",
              "      <th>Fecha_Desde</th>\n",
              "      <th>dias</th>\n",
              "    </tr>\n",
              "  </thead>\n",
              "  <tbody>\n",
              "    <tr>\n",
              "      <th>0</th>\n",
              "      <td>9</td>\n",
              "      <td>29</td>\n",
              "      <td>3213</td>\n",
              "      <td>0</td>\n",
              "      <td>20188</td>\n",
              "      <td>0</td>\n",
              "      <td>2018-08-30</td>\n",
              "      <td>2018-08-06</td>\n",
              "      <td>24</td>\n",
              "    </tr>\n",
              "    <tr>\n",
              "      <th>1</th>\n",
              "      <td>9</td>\n",
              "      <td>29</td>\n",
              "      <td>3795</td>\n",
              "      <td>0</td>\n",
              "      <td>20188</td>\n",
              "      <td>0</td>\n",
              "      <td>2018-08-30</td>\n",
              "      <td>2018-08-06</td>\n",
              "      <td>24</td>\n",
              "    </tr>\n",
              "    <tr>\n",
              "      <th>2</th>\n",
              "      <td>9</td>\n",
              "      <td>29</td>\n",
              "      <td>11816</td>\n",
              "      <td>1</td>\n",
              "      <td>20188</td>\n",
              "      <td>0</td>\n",
              "      <td>2018-08-30</td>\n",
              "      <td>2018-08-06</td>\n",
              "      <td>24</td>\n",
              "    </tr>\n",
              "    <tr>\n",
              "      <th>3</th>\n",
              "      <td>16</td>\n",
              "      <td>40</td>\n",
              "      <td>8444</td>\n",
              "      <td>1</td>\n",
              "      <td>20188</td>\n",
              "      <td>0</td>\n",
              "      <td>2018-08-19</td>\n",
              "      <td>2018-08-12</td>\n",
              "      <td>7</td>\n",
              "    </tr>\n",
              "    <tr>\n",
              "      <th>4</th>\n",
              "      <td>16</td>\n",
              "      <td>40</td>\n",
              "      <td>8488</td>\n",
              "      <td>1</td>\n",
              "      <td>20188</td>\n",
              "      <td>0</td>\n",
              "      <td>2018-08-19</td>\n",
              "      <td>2018-08-12</td>\n",
              "      <td>7</td>\n",
              "    </tr>\n",
              "    <tr>\n",
              "      <th>...</th>\n",
              "      <td>...</td>\n",
              "      <td>...</td>\n",
              "      <td>...</td>\n",
              "      <td>...</td>\n",
              "      <td>...</td>\n",
              "      <td>...</td>\n",
              "      <td>...</td>\n",
              "      <td>...</td>\n",
              "      <td>...</td>\n",
              "    </tr>\n",
              "    <tr>\n",
              "      <th>422432</th>\n",
              "      <td>16</td>\n",
              "      <td>40</td>\n",
              "      <td>14435</td>\n",
              "      <td>0</td>\n",
              "      <td>20199</td>\n",
              "      <td>0</td>\n",
              "      <td>2019-09-26</td>\n",
              "      <td>2019-09-25</td>\n",
              "      <td>1</td>\n",
              "    </tr>\n",
              "    <tr>\n",
              "      <th>422433</th>\n",
              "      <td>9</td>\n",
              "      <td>29</td>\n",
              "      <td>320</td>\n",
              "      <td>0</td>\n",
              "      <td>20199</td>\n",
              "      <td>0</td>\n",
              "      <td>2019-09-26</td>\n",
              "      <td>2019-09-25</td>\n",
              "      <td>1</td>\n",
              "    </tr>\n",
              "    <tr>\n",
              "      <th>422434</th>\n",
              "      <td>9</td>\n",
              "      <td>29</td>\n",
              "      <td>3117</td>\n",
              "      <td>0</td>\n",
              "      <td>20199</td>\n",
              "      <td>0</td>\n",
              "      <td>2019-09-26</td>\n",
              "      <td>2019-09-25</td>\n",
              "      <td>1</td>\n",
              "    </tr>\n",
              "    <tr>\n",
              "      <th>422435</th>\n",
              "      <td>9</td>\n",
              "      <td>29</td>\n",
              "      <td>3503</td>\n",
              "      <td>0</td>\n",
              "      <td>20199</td>\n",
              "      <td>0</td>\n",
              "      <td>2019-09-26</td>\n",
              "      <td>2019-09-25</td>\n",
              "      <td>1</td>\n",
              "    </tr>\n",
              "    <tr>\n",
              "      <th>422436</th>\n",
              "      <td>9</td>\n",
              "      <td>29</td>\n",
              "      <td>6372</td>\n",
              "      <td>0</td>\n",
              "      <td>20199</td>\n",
              "      <td>0</td>\n",
              "      <td>2019-09-26</td>\n",
              "      <td>2019-09-25</td>\n",
              "      <td>1</td>\n",
              "    </tr>\n",
              "  </tbody>\n",
              "</table>\n",
              "<p>420617 rows × 9 columns</p>\n",
              "</div>"
            ],
            "text/plain": [
              "        Cupo  Marca  Cliente  ...  Fecha_Hasta Fecha_Desde  dias\n",
              "0          9     29     3213  ...   2018-08-30  2018-08-06    24\n",
              "1          9     29     3795  ...   2018-08-30  2018-08-06    24\n",
              "2          9     29    11816  ...   2018-08-30  2018-08-06    24\n",
              "3         16     40     8444  ...   2018-08-19  2018-08-12     7\n",
              "4         16     40     8488  ...   2018-08-19  2018-08-12     7\n",
              "...      ...    ...      ...  ...          ...         ...   ...\n",
              "422432    16     40    14435  ...   2019-09-26  2019-09-25     1\n",
              "422433     9     29      320  ...   2019-09-26  2019-09-25     1\n",
              "422434     9     29     3117  ...   2019-09-26  2019-09-25     1\n",
              "422435     9     29     3503  ...   2019-09-26  2019-09-25     1\n",
              "422436     9     29     6372  ...   2019-09-26  2019-09-25     1\n",
              "\n",
              "[420617 rows x 9 columns]"
            ]
          },
          "metadata": {
            "tags": []
          },
          "execution_count": 691
        }
      ]
    },
    {
      "cell_type": "code",
      "metadata": {
        "colab": {
          "base_uri": "https://localhost:8080/"
        },
        "id": "pno7Phm-KNTj",
        "outputId": "7cc3798f-a621-4e1a-e2e5-4180c2df0cb3"
      },
      "source": [
        "sales[\"campañas\"]=sales[\"Año\"].astype(str)+sales[\"Mes\"].astype(str)\n",
        "promoDF1[\"Cupo\"] =promoDF1[\"Cupo\"].astype(float)\n",
        "promoDF_5[\"Cupo\"] =promoDF_5[\"Cupo\"].astype(float)\n",
        "M1 = sales[(sales[\"Marca\"]==40)&(sales[\"Cupo\"]==16)]\n",
        "M2 = sales[(sales[\"Marca\"]==39)&(sales[\"Cupo\"]==20)]\n",
        "M3 = sales[(sales[\"Marca\"]==29)&(sales[\"Cupo\"]==9)]"
      ],
      "execution_count": 692,
      "outputs": [
        {
          "output_type": "stream",
          "text": [
            "/usr/local/lib/python3.6/dist-packages/ipykernel_launcher.py:2: SettingWithCopyWarning: \n",
            "A value is trying to be set on a copy of a slice from a DataFrame.\n",
            "Try using .loc[row_indexer,col_indexer] = value instead\n",
            "\n",
            "See the caveats in the documentation: https://pandas.pydata.org/pandas-docs/stable/user_guide/indexing.html#returning-a-view-versus-a-copy\n",
            "  \n"
          ],
          "name": "stderr"
        }
      ]
    },
    {
      "cell_type": "code",
      "metadata": {
        "colab": {
          "base_uri": "https://localhost:8080/"
        },
        "id": "PIuX0DC41YV-",
        "outputId": "a62fda1e-1d17-4028-8107-0aa09eba9cab"
      },
      "source": [
        "M1['campañas'].value_counts()"
      ],
      "execution_count": 693,
      "outputs": [
        {
          "output_type": "execute_result",
          "data": {
            "text/plain": [
              "20188     6281\n",
              "201811    6263\n",
              "20187     6252\n",
              "20189     6216\n",
              "201810    6183\n",
              "20186     6174\n",
              "20183     6146\n",
              "20185     6086\n",
              "20184     6029\n",
              "201812    5971\n",
              "20182     5936\n",
              "20181     5847\n",
              "20191     5797\n",
              "20192     5527\n",
              "20193     5055\n",
              "20197     4397\n",
              "20198     4374\n",
              "20196     4314\n",
              "20195     3849\n",
              "20194     3091\n",
              "Name: campañas, dtype: int64"
            ]
          },
          "metadata": {
            "tags": []
          },
          "execution_count": 693
        }
      ]
    },
    {
      "cell_type": "code",
      "metadata": {
        "scrolled": true,
        "colab": {
          "base_uri": "https://localhost:8080/"
        },
        "id": "YBNsOkbkKNTj",
        "outputId": "0c8f7c21-935b-4390-fd2b-74d99736391d"
      },
      "source": [
        "M1[\"var1\"]=M1[\"Hl\"]/M1[\"Nr\"]\n",
        "M1[\"var2\"]=M1[\"Hl\"]*M1[\"Nr\"]\n",
        "M1[\"var3\"]=M1[\"Nr\"]*M1[\"Nr\"]\n",
        "M1[\"var4\"]=M1[\"Hl\"]*M1[\"Hl\"]\n",
        "M1[\"var5\"]=M1[\"Nr\"]/M1[\"Hl\"]\n",
        "M1[\"var6\"]=M1[\"Nr\"]+M1[\"Hl\"]"
      ],
      "execution_count": 694,
      "outputs": [
        {
          "output_type": "stream",
          "text": [
            "/usr/local/lib/python3.6/dist-packages/ipykernel_launcher.py:1: SettingWithCopyWarning: \n",
            "A value is trying to be set on a copy of a slice from a DataFrame.\n",
            "Try using .loc[row_indexer,col_indexer] = value instead\n",
            "\n",
            "See the caveats in the documentation: https://pandas.pydata.org/pandas-docs/stable/user_guide/indexing.html#returning-a-view-versus-a-copy\n",
            "  \"\"\"Entry point for launching an IPython kernel.\n",
            "/usr/local/lib/python3.6/dist-packages/ipykernel_launcher.py:2: SettingWithCopyWarning: \n",
            "A value is trying to be set on a copy of a slice from a DataFrame.\n",
            "Try using .loc[row_indexer,col_indexer] = value instead\n",
            "\n",
            "See the caveats in the documentation: https://pandas.pydata.org/pandas-docs/stable/user_guide/indexing.html#returning-a-view-versus-a-copy\n",
            "  \n",
            "/usr/local/lib/python3.6/dist-packages/ipykernel_launcher.py:3: SettingWithCopyWarning: \n",
            "A value is trying to be set on a copy of a slice from a DataFrame.\n",
            "Try using .loc[row_indexer,col_indexer] = value instead\n",
            "\n",
            "See the caveats in the documentation: https://pandas.pydata.org/pandas-docs/stable/user_guide/indexing.html#returning-a-view-versus-a-copy\n",
            "  This is separate from the ipykernel package so we can avoid doing imports until\n",
            "/usr/local/lib/python3.6/dist-packages/ipykernel_launcher.py:4: SettingWithCopyWarning: \n",
            "A value is trying to be set on a copy of a slice from a DataFrame.\n",
            "Try using .loc[row_indexer,col_indexer] = value instead\n",
            "\n",
            "See the caveats in the documentation: https://pandas.pydata.org/pandas-docs/stable/user_guide/indexing.html#returning-a-view-versus-a-copy\n",
            "  after removing the cwd from sys.path.\n",
            "/usr/local/lib/python3.6/dist-packages/ipykernel_launcher.py:5: SettingWithCopyWarning: \n",
            "A value is trying to be set on a copy of a slice from a DataFrame.\n",
            "Try using .loc[row_indexer,col_indexer] = value instead\n",
            "\n",
            "See the caveats in the documentation: https://pandas.pydata.org/pandas-docs/stable/user_guide/indexing.html#returning-a-view-versus-a-copy\n",
            "  \"\"\"\n",
            "/usr/local/lib/python3.6/dist-packages/ipykernel_launcher.py:6: SettingWithCopyWarning: \n",
            "A value is trying to be set on a copy of a slice from a DataFrame.\n",
            "Try using .loc[row_indexer,col_indexer] = value instead\n",
            "\n",
            "See the caveats in the documentation: https://pandas.pydata.org/pandas-docs/stable/user_guide/indexing.html#returning-a-view-versus-a-copy\n",
            "  \n"
          ],
          "name": "stderr"
        }
      ]
    },
    {
      "cell_type": "code",
      "metadata": {
        "id": "Mm5yEL-dKNTk"
      },
      "source": [
        "\n",
        "M120181 = M1[M1[\"campañas\"]==\"20181\"]\n",
        "M120182 = M1[M1[\"campañas\"]==\"20182\"]\n",
        "M120183 = M1[M1[\"campañas\"]==\"20183\"]\n",
        "M120184 = M1[M1[\"campañas\"]==\"20184\"]\n",
        "M120185 = M1[M1[\"campañas\"]==\"20185\"]\n",
        "M120186 = M1[M1[\"campañas\"]==\"20186\"]\n",
        "M120187 = M1[M1[\"campañas\"]==\"20187\"]\n",
        "M120188 = M1[M1[\"campañas\"]==\"20188\"]\n",
        "M120189 = M1[M1[\"campañas\"]==\"20189\"]\n",
        "M1201810 = M1[M1[\"campañas\"]==\"201810\"]\n",
        "M1201811 = M1[M1[\"campañas\"]==\"201811\"]\n",
        "M1201812 = M1[M1[\"campañas\"]==\"201812\"]\n",
        "M120191 = M1[M1[\"campañas\"]==\"20191\"]\n",
        "M120192 = M1[M1[\"campañas\"]==\"20192\"]\n",
        "M120193 = M1[M1[\"campañas\"]==\"20193\"]\n",
        "M120194 = M1[M1[\"campañas\"]==\"20194\"]\n",
        "M120195 = M1[M1[\"campañas\"]==\"20195\"]\n",
        "M120196 = M1[M1[\"campañas\"]==\"20196\"]\n",
        "M120197 = M1[M1[\"campañas\"]==\"20197\"]\n",
        "M120198 = M1[M1[\"campañas\"]==\"20198\"]\n",
        "promoDF_5[\"campañas\"]=\"20195\"\n",
        "\n",
        "M120188_v1 = M120188.merge(promoDF1,right_on=[\"Cupo\",\"Marca\",\"Cliente\",\"campañas\"],left_on=[\"Cupo\",\"Marca\",\"Cliente\",\"campañas\"],how=\"inner\").drop_duplicates()\n",
        "M120189_v1 = M120189.merge(promoDF1,right_on=[\"Cupo\",\"Marca\",\"Cliente\",\"campañas\"],left_on=[\"Cupo\",\"Marca\",\"Cliente\",\"campañas\"],how=\"inner\").drop_duplicates()\n",
        "M1201810_v1 = M1201810.merge(promoDF1,right_on=[\"Cupo\",\"Marca\",\"Cliente\",\"campañas\"],left_on=[\"Cupo\",\"Marca\",\"Cliente\",\"campañas\"],how=\"inner\").drop_duplicates()\n",
        "M1201811_v1 = M1201811.merge(promoDF1,right_on=[\"Cupo\",\"Marca\",\"Cliente\",\"campañas\"],left_on=[\"Cupo\",\"Marca\",\"Cliente\",\"campañas\"],how=\"inner\").drop_duplicates()\n",
        "M1201812_v1 = M1201812.merge(promoDF1,right_on=[\"Cupo\",\"Marca\",\"Cliente\",\"campañas\"],left_on=[\"Cupo\",\"Marca\",\"Cliente\",\"campañas\"],how=\"inner\").drop_duplicates()\n",
        "M120191_v1 = M120191.merge(promoDF1,right_on=[\"Cupo\",\"Marca\",\"Cliente\",\"campañas\"],left_on=[\"Cupo\",\"Marca\",\"Cliente\",\"campañas\"],how=\"inner\").drop_duplicates()\n",
        "M120192_v1 = M120192.merge(promoDF1,right_on=[\"Cupo\",\"Marca\",\"Cliente\",\"campañas\"],left_on=[\"Cupo\",\"Marca\",\"Cliente\",\"campañas\"],how=\"inner\").drop_duplicates()\n",
        "M120193_v1 = M120193.merge(promoDF1,right_on=[\"Cupo\",\"Marca\",\"Cliente\",\"campañas\"],left_on=[\"Cupo\",\"Marca\",\"Cliente\",\"campañas\"],how=\"inner\").drop_duplicates()\n",
        "M120194_v1 = M120194.merge(promoDF1,right_on=[\"Cupo\",\"Marca\",\"Cliente\",\"campañas\"],left_on=[\"Cupo\",\"Marca\",\"Cliente\",\"campañas\"],how=\"inner\").drop_duplicates()\n",
        "M120195_v1 = M120195.merge(promoDF_5,right_on=[\"Cupo\",\"Marca\",\"Cliente\",\"campañas\"],left_on=[\"Cupo\",\"Marca\",\"Cliente\",\"campañas\"],how=\"inner\").drop_duplicates()\n",
        "M120196_v1 = M120196.merge(promoDF1,right_on=[\"Cupo\",\"Marca\",\"Cliente\",\"campañas\"],left_on=[\"Cupo\",\"Marca\",\"Cliente\",\"campañas\"],how=\"inner\").drop_duplicates()\n",
        "M120197_v1 = M120197.merge(promoDF1,right_on=[\"Cupo\",\"Marca\",\"Cliente\",\"campañas\"],left_on=[\"Cupo\",\"Marca\",\"Cliente\",\"campañas\"],how=\"inner\").drop_duplicates()\n",
        "M120198_v1 = M120198.merge(promoDF1,right_on=[\"Cupo\",\"Marca\",\"Cliente\",\"campañas\"],left_on=[\"Cupo\",\"Marca\",\"Cliente\",\"campañas\"],how=\"inner\").drop_duplicates()\n",
        "\n"
      ],
      "execution_count": 695,
      "outputs": []
    },
    {
      "cell_type": "code",
      "metadata": {
        "id": "ShglApyJKNTk"
      },
      "source": [
        "# asignacion de campañas\n",
        "# train_M1=pd.concat([M120194_v1,M120195_v1,M120196_v1,M120197_v1])\n",
        "train_M1=pd.concat([M120193_v1,\n",
        "                    M120194_v1,M120195_v1,M120196_v1,M120197_v1]) # subio\n",
        "# train_M1=pd.concat([M120188_v1,M120193_v1,\n",
        "#                     M120194_v1,M120195_v1,M120196_v1,M120197_v1])\n",
        "#probar con todas para  ver alguna relacion\n",
        "train_M1_informativo=pd.concat([M120188_v1,M120189_v1,M1201810_v1,M1201811_v1,M1201812_v1,M120191_v1,\n",
        "                    M120192_v1,M120193_v1,\n",
        "                    M120194_v1,M120195_v1,M120196_v1,M120197_v1])\n",
        "test_M1=M120198_v1\n"
      ],
      "execution_count": 696,
      "outputs": []
    },
    {
      "cell_type": "code",
      "metadata": {
        "colab": {
          "base_uri": "https://localhost:8080/"
        },
        "id": "ucHW-PQ521S6",
        "outputId": "877628f1-c357-4686-fdb8-57fab46fc293"
      },
      "source": [
        "train_M1['Flag_ejecutada'].value_counts()"
      ],
      "execution_count": 697,
      "outputs": [
        {
          "output_type": "execute_result",
          "data": {
            "text/plain": [
              "0    9390\n",
              "1    3205\n",
              "Name: Flag_ejecutada, dtype: int64"
            ]
          },
          "metadata": {
            "tags": []
          },
          "execution_count": 697
        }
      ]
    },
    {
      "cell_type": "code",
      "metadata": {
        "id": "qEfpyV2Do5dh"
      },
      "source": [
        "import matplotlib.pyplot as plt"
      ],
      "execution_count": 698,
      "outputs": []
    },
    {
      "cell_type": "code",
      "metadata": {
        "id": "U19HHNocsRMJ"
      },
      "source": [
        "def revision_datos(df):\n",
        "  df_revision = df.copy()\n",
        "  extracted_digit = np.where(df_revision['campañas'].str.get(5).isna(),'',df_revision['campañas'].str.get(5))\n",
        "  df_revision['Fecha'] = df_revision['campañas'].str.extract(r\"(\\d{4})\").iloc[:,0] +'-'+ df_revision['campañas'].str.get(4)+extracted_digit + '-01'\n",
        "  df_revision['Fecha'] = pd.to_datetime(df_revision['Fecha'])\n",
        "\n",
        "  ofo = df_revision.resample('M',on='Fecha')['Flag_ejecutada'].count()\n",
        "  ofa = df_revision.resample('M',on='Fecha')['Flag_ejecutada'].sum()\n",
        "\n",
        "  ofertas = pd.concat([ofa,ofo],axis=1)\n",
        "  ofertas.columns = ['Ofertas Aceptadas','Ofertas Ofrecidas']\n",
        "  ofertas['proporcion_aceptacion'] = ofertas['Ofertas Aceptadas'] / ofertas['Ofertas Ofrecidas']*1.0\n",
        "  print(ofertas)\n",
        "\n",
        "  ofo.plot()\n",
        "  ofa.plot()\n",
        "  plt.legend(['Ofertas ofrecidas', 'Ofertas aceptadas'])"
      ],
      "execution_count": 699,
      "outputs": []
    },
    {
      "cell_type": "code",
      "metadata": {
        "colab": {
          "base_uri": "https://localhost:8080/",
          "height": 529
        },
        "id": "-1zFeLY8sy1d",
        "outputId": "52ff0ccd-744b-4faa-d10e-a9e221f020b5"
      },
      "source": [
        "revision_datos(train_M1_informativo)"
      ],
      "execution_count": 700,
      "outputs": [
        {
          "output_type": "stream",
          "text": [
            "            Ofertas Aceptadas  Ofertas Ofrecidas  proporcion_aceptacion\n",
            "Fecha                                                                  \n",
            "2018-08-31               1080               1997               0.540811\n",
            "2018-09-30               5182              26170               0.198013\n",
            "2018-10-31               3950              21999               0.179554\n",
            "2018-11-30               4469              24092               0.185497\n",
            "2018-12-31                123               1611               0.076350\n",
            "2019-01-31               3758              16124               0.233069\n",
            "2019-02-28                 94                293               0.320819\n",
            "2019-03-31               1404               8185               0.171533\n",
            "2019-04-30                179                183               0.978142\n",
            "2019-05-31                245                250               0.980000\n",
            "2019-06-30                154                618               0.249191\n",
            "2019-07-31               1223               3359               0.364096\n"
          ],
          "name": "stdout"
        },
        {
          "output_type": "display_data",
          "data": {
            "image/png": "[encoded data removed]",
            "text/plain": [
              "<Figure size 432x288 with 1 Axes>"
            ]
          },
          "metadata": {
            "tags": [],
            "needs_background": "light"
          }
        }
      ]
    },
    {
      "cell_type": "code",
      "metadata": {
        "id": "1-_eLwT47ToC"
      },
      "source": [
        ""
      ],
      "execution_count": 700,
      "outputs": []
    },
    {
      "cell_type": "code",
      "metadata": {
        "id": "3BqAxAzQwlxR"
      },
      "source": [
        "\n",
        "\n",
        "train_M1_1=train_M1[['Cliente',  'Marca',\n",
        "       'Cupo', 'Nr', 'Hl', 'Dcto', 'Flag_ejecutada', 'dias',\"var1\",\"var6\"]]\n",
        "test_M1_1 = test_M1[['Cliente',  'Marca',\n",
        "       'Cupo', 'Nr', 'Hl', 'Dcto', 'Flag_ejecutada', 'dias',\"var1\",\"var6\"]]\n",
        "Train_M1=test_M1_1[[\"Cliente\",\"Marca\",\"Cupo\",\"Flag_ejecutada\"]].merge(train_M1_1.groupby([\"Cliente\",\"Cupo\",\"Marca\"]).sum().add_prefix(\"SUM_\").reset_index(),\n",
        "                                                            on=[\"Cliente\",\"Marca\",\"Cupo\"],how=\"inner\").fillna(0)\n",
        "Train_M1=Train_M1.merge(train_M1_1.groupby([\"Cliente\",\"Cupo\",\"Marca\"]).mean().add_prefix(\"MEAN_\").reset_index(),\n",
        "                                                            on=[\"Cliente\",\"Marca\",\"Cupo\"],how=\"inner\").fillna(0)\n",
        "Train_M1=Train_M1.merge(train_M1_1.groupby([\"Cliente\",\"Cupo\",\"Marca\"]).min().add_prefix(\"Min_\").reset_index(),\n",
        "                                                            on=[\"Cliente\",\"Marca\",\"Cupo\"],how=\"inner\").fillna(0)"
      ],
      "execution_count": 701,
      "outputs": []
    },
    {
      "cell_type": "code",
      "metadata": {
        "id": "rs5jCHTAJU2E"
      },
      "source": [
        "# AGREGADO - nueva columna Flag_ofrecida contiene las ofertas que\n",
        "# se le hicieron al cliente en el periodo seleccionado\n",
        "# train_M1_1_ofertas_ofrecidas = train_M1_1.groupby(['Cliente'])[['Flag_ejecutada']].count().reset_index()\n",
        "# train_M1_1_ofertas_ofrecidas.rename(columns={'Flag_ejecutada':'Flag_ofrecida'},inplace=True)\n",
        "# Train_M1 = Train_M1.merge(train_M1_1_ofertas_ofrecidas,on='Cliente',how='left')"
      ],
      "execution_count": 702,
      "outputs": []
    },
    {
      "cell_type": "code",
      "metadata": {
        "id": "XrZPKb6nKNTk"
      },
      "source": [
        "Train_M1=Train_M1.merge(clientes_atributos[[\"Cliente\",\"TipoPoblacion\",\"Estrato\",\"EF\"]],on=\"Cliente\",how=\"left\")"
      ],
      "execution_count": 703,
      "outputs": []
    },
    {
      "cell_type": "code",
      "metadata": {
        "id": "cVDa2ntrKNTk"
      },
      "source": [
        "# Train_M1=Train_M1.merge(clusters[['Cliente','Cluster_C2','Cluster_C3','Cluster_C4']],on=\"Cliente\",how=\"left\")\n",
        "Train_M1=Train_M1.merge(clusters[['Cliente','Cluster_C2','Cluster_C3','Cluster_C4','Cluster_C5']],on=\"Cliente\",how=\"left\")\n",
        "# Train_M1=Train_M1.merge(clusters[['Cliente','Cluster_C4']],on=\"Cliente\",how=\"left\")"
      ],
      "execution_count": 704,
      "outputs": []
    },
    {
      "cell_type": "code",
      "metadata": {
        "id": "s3DzEsqKKNTk"
      },
      "source": [
        "test = pd.read_csv(url+\"/test.csv\")\n",
        "testM1 = test[(test[\"Marca\"]==40)&(test[\"Cupo\"]==16)]\n",
        "testM2 = test[(test[\"Marca\"]==39)&(test[\"Cupo\"]==20)]\n",
        "testM3 = test[(test[\"Marca\"]==29)&(test[\"Cupo\"]==9)]\n",
        "\n",
        "test_M1=pd.concat([M120194_v1,M120195_v1,M120196_v1,M120197_v1,M120198_v1]) # subió\n",
        "# test_M1=pd.concat([M120193_v1,\n",
        "#                    M120194_v1,M120195_v1,M120196_v1,M120197_v1,M120198_v1])"
      ],
      "execution_count": 705,
      "outputs": []
    },
    {
      "cell_type": "code",
      "metadata": {
        "id": "ajujAYMwKNTk"
      },
      "source": [
        "test_M1_1=test_M1[['Cliente', 'Marca',\n",
        "       'Cupo', 'Nr', 'Hl', 'Dcto', 'Flag_ejecutada', 'dias',\"var1\",\"var6\"]]\n",
        "\n",
        "Test_M1=testM1[[\"Cliente\",\"Marca\",\"Cupo\"]].merge(test_M1_1.groupby([\"Cliente\",\"Cupo\",\"Marca\"]).sum().add_prefix(\"SUM_\").reset_index(),\n",
        "                                                            on=[\"Cliente\",\"Marca\",\"Cupo\"],how=\"inner\").fillna(0)\n",
        "Test_M1=Test_M1.merge(test_M1_1.groupby([\"Cliente\",\"Cupo\",\"Marca\"]).mean().add_prefix(\"MEAN_\").reset_index(),\n",
        "                                                            on=[\"Cliente\",\"Marca\",\"Cupo\"],how=\"inner\").fillna(0)\n",
        "Test_M1=Test_M1.merge(test_M1_1.groupby([\"Cliente\",\"Cupo\",\"Marca\"]).min().add_prefix(\"Min_\").reset_index(),\n",
        "                                                            on=[\"Cliente\",\"Marca\",\"Cupo\"],how=\"inner\").fillna(0)\n"
      ],
      "execution_count": 706,
      "outputs": []
    },
    {
      "cell_type": "code",
      "metadata": {
        "id": "gRNHhyquKNTk"
      },
      "source": [
        "#grupo1 = test_M1_1.groupby([\"Cliente\",\"Cupo\",\"Marca\"]).agg({\"Dcto\":\"count\"}).add_prefix(\"Ventas_c_\")\n",
        "#grupo1_1 = test_M1_1[test_M1_1[\"Dcto\"]!=0].groupby([\"Cliente\",\"Cupo\",\"Marca\"]).agg({\"Dcto\":\"count\"}).add_prefix(\"DD_c_\")\n",
        "#Test_M1=Test_M1.merge(grupo1,on=[\"Cliente\",\"Marca\",\"Cupo\"],how=\"left\")\n",
        "#Test_M1=Test_M1.merge(grupo1_1,on=[\"Cliente\",\"Marca\",\"Cupo\"],how=\"left\")\n"
      ],
      "execution_count": 707,
      "outputs": []
    },
    {
      "cell_type": "code",
      "metadata": {
        "id": "UeKpAR91LLbu"
      },
      "source": [
        "# AGREGADO - nueva columna Flag_ofrecida contiene las ofertas que\n",
        "# se le hicieron al cliente en el periodo seleccionado\n",
        "# test_M1_1_ofertas_ofrecidas = test_M1_1.groupby(['Cliente'])[['Flag_ejecutada']].count().reset_index()\n",
        "# test_M1_1_ofertas_ofrecidas.rename(columns={'Flag_ejecutada':'Flag_ofrecida'},inplace=True)\n",
        "# Test_M1 = Test_M1.merge(test_M1_1_ofertas_ofrecidas,on='Cliente',how='left')"
      ],
      "execution_count": 708,
      "outputs": []
    },
    {
      "cell_type": "code",
      "metadata": {
        "id": "OuQj5fggKNTk"
      },
      "source": [
        "\n",
        "Test_M1=Test_M1.merge(clientes_atributos[[\"Cliente\",\"TipoPoblacion\",\"Estrato\",\"EF\"]],on=\"Cliente\",how=\"left\")"
      ],
      "execution_count": 709,
      "outputs": []
    },
    {
      "cell_type": "code",
      "metadata": {
        "id": "l8bMlOznKNTk"
      },
      "source": [
        "# Test_M1=Test_M1.merge(clusters[['Cliente','Cluster_C2','Cluster_C3','Cluster_C4']],on=\"Cliente\",how=\"left\")\n",
        "Test_M1=Test_M1.merge(clusters[['Cliente','Cluster_C2','Cluster_C3','Cluster_C4','Cluster_C5']],on=\"Cliente\",how=\"left\")\n",
        "# Test_M1=Test_M1.merge(clusters[['Cliente','Cluster_C4']],on=\"Cliente\",how=\"left\")"
      ],
      "execution_count": 710,
      "outputs": []
    },
    {
      "cell_type": "code",
      "metadata": {
        "colab": {
          "base_uri": "https://localhost:8080/"
        },
        "id": "QtoRMfDzKNTl",
        "outputId": "a150834d-d38a-4d5e-e156-1738ff78f6bf"
      },
      "source": [
        "# MODELADO\n",
        "import pandas as pd \n",
        "import numpy as np \n",
        "import matplotlib.pyplot as plt \n",
        "import gc\n",
        "import os\n",
        "import logging\n",
        "import datetime\n",
        "import warnings\n",
        "import numpy as np\n",
        "import pandas as pd\n",
        "import seaborn as sns\n",
        "import lightgbm as lgb\n",
        "from tqdm import tqdm_notebook\n",
        "import matplotlib.pyplot as plt\n",
        "from sklearn.metrics import mean_squared_error\n",
        "from sklearn.metrics import roc_auc_score, roc_curve\n",
        "from sklearn.model_selection import StratifiedKFold\n",
        "param = {\n",
        "    'bagging_freq': 5, #5\n",
        "    'bagging_fraction': 0.4, #0.4\n",
        "    'boost_from_average':'false',\n",
        "    'min_child_samples': 30,\n",
        "    'boost': 'gbdt',\n",
        "    'feature_fraction': 0.5, #0.05\n",
        "    'learning_rate': 0.01, #0.01\n",
        "    'max_depth': -1,  \n",
        "    'metric':'auc',\n",
        "    'min_data_in_leaf': 80, #80\n",
        "    'min_sum_hessian_in_leaf': 10, #10\n",
        "    'num_leaves': 13, #13\n",
        "    'num_threads': 8, \n",
        "    'tree_learner': 'serial',\n",
        "    'objective': 'binary', \n",
        "    'verbosity': 1,\n",
        "    \"is_unbalance\":False,\n",
        "    \"random_state\":1234\n",
        "}\n",
        "train_df=Train_M1\n",
        "test_df=Test_M1\n",
        "features = [c for c in train_df.columns if c not in [\"Cliente\",\"Cupo\",\"Marca\",\"Flag_ejecutada\"]]#\"SUM_flagdigital\",\"SUM_flagpedidoanulado\",\"flagsupervisor\"]]\n",
        "target=train_df[\"Flag_ejecutada\"]\n",
        "train_df.fillna(train_df.mean(), inplace=True) #reemplazar nan con media\n",
        "test_df.fillna(test_df.mean(), inplace=True) \n",
        "\n",
        "folds = StratifiedKFold(n_splits=5, shuffle=True, random_state=44000)\n",
        "oof = np.zeros(len(train_df))\n",
        "predictions = np.zeros(len(test_df))\n",
        "feature_importance_df = pd.DataFrame()\n",
        "\n",
        "for fold_, (trn_idx, val_idx) in enumerate(folds.split(train_df.values, target.values)):\n",
        "    print(\"Fold {}\".format(fold_))\n",
        "    trn_data = lgb.Dataset(train_df.iloc[trn_idx][features], label=target.iloc[trn_idx])\n",
        "    val_data = lgb.Dataset(train_df.iloc[val_idx][features], label=target.iloc[val_idx])\n",
        "\n",
        "    num_round = 10000\n",
        "    clf = lgb.train(param, trn_data, num_round, valid_sets = [trn_data, val_data], verbose_eval=1000, early_stopping_rounds = 1000)\n",
        "    oof[val_idx] = clf.predict(train_df.iloc[val_idx][features], num_iteration=clf.best_iteration)\n",
        "    \n",
        "    fold_importance_df = pd.DataFrame()\n",
        "    fold_importance_df[\"Feature\"] = features\n",
        "    fold_importance_df[\"importance\"] = clf.feature_importance()\n",
        "    fold_importance_df[\"fold\"] = fold_ + 1\n",
        "    feature_importance_df = pd.concat([feature_importance_df, fold_importance_df], axis=0)\n",
        "    \n",
        "    predictions += clf.predict(test_df[features], num_iteration=clf.best_iteration) / folds.n_splits\n",
        "\n",
        "print(\"CV score: {:<8.5f}\".format(roc_auc_score(target, oof)))   "
      ],
      "execution_count": 711,
      "outputs": [
        {
          "output_type": "stream",
          "text": [
            "Fold 0\n",
            "Training until validation scores don't improve for 1000 rounds.\n",
            "[1000]\ttraining's auc: 0.822139\tvalid_1's auc: 0.731693\n",
            "Early stopping, best iteration is:\n",
            "[414]\ttraining's auc: 0.782541\tvalid_1's auc: 0.741848\n",
            "Fold 1\n",
            "Training until validation scores don't improve for 1000 rounds.\n",
            "[1000]\ttraining's auc: 0.82304\tvalid_1's auc: 0.726123\n",
            "Early stopping, best iteration is:\n",
            "[218]\ttraining's auc: 0.767228\tvalid_1's auc: 0.731172\n",
            "Fold 2\n",
            "Training until validation scores don't improve for 1000 rounds.\n",
            "[1000]\ttraining's auc: 0.825653\tvalid_1's auc: 0.719901\n",
            "Early stopping, best iteration is:\n",
            "[585]\ttraining's auc: 0.800258\tvalid_1's auc: 0.721776\n",
            "Fold 3\n",
            "Training until validation scores don't improve for 1000 rounds.\n",
            "[1000]\ttraining's auc: 0.829192\tvalid_1's auc: 0.708308\n",
            "Early stopping, best iteration is:\n",
            "[634]\ttraining's auc: 0.806624\tvalid_1's auc: 0.712639\n",
            "Fold 4\n",
            "Training until validation scores don't improve for 1000 rounds.\n",
            "[1000]\ttraining's auc: 0.822907\tvalid_1's auc: 0.732973\n",
            "Early stopping, best iteration is:\n",
            "[183]\ttraining's auc: 0.760886\tvalid_1's auc: 0.741293\n",
            "CV score: 0.72306 \n"
          ],
          "name": "stdout"
        }
      ]
    },
    {
      "cell_type": "code",
      "metadata": {
        "colab": {
          "base_uri": "https://localhost:8080/",
          "height": 1000
        },
        "id": "bATscKM6KNTl",
        "outputId": "4eec1f5f-1640-4fb8-9093-0f58a6665b77"
      },
      "source": [
        "cols = (feature_importance_df[[\"Feature\", \"importance\"]]\n",
        "        .groupby(\"Feature\")\n",
        "        .mean()\n",
        "        .sort_values(by=\"importance\", ascending=False)[:150].index)\n",
        "best_features = feature_importance_df.loc[feature_importance_df.Feature.isin(cols)]\n",
        "\n",
        "plt.figure(figsize=(14,28))\n",
        "sns.barplot(x=\"importance\", y=\"Feature\", data=best_features.sort_values(by=\"importance\",ascending=False))\n",
        "plt.title('Features importance (averaged/folds)')\n",
        "plt.tight_layout()\n"
      ],
      "execution_count": 712,
      "outputs": [
        {
          "output_type": "display_data",
          "data": {
            "image/png": "[encoded data removed]",
            "text/plain": [
              "<Figure size 1008x2016 with 1 Axes>"
            ]
          },
          "metadata": {
            "tags": [],
            "needs_background": "light"
          }
        }
      ]
    },
    {
      "cell_type": "code",
      "metadata": {
        "id": "9VCOt_4sKNTl"
      },
      "source": [
        "Test_M1[\"pred\"] = predictions\n",
        "t1=test[(test[\"Marca\"]==40)&(test[\"Cupo\"]==16)]\n",
        "t1=t1.merge(Test_M1[[\"Cliente\",\"Marca\",\"Cupo\",\"pred\"]],on=[\"Cliente\",\"Marca\",\"Cupo\"],how=\"left\")\n",
        "t1[\"Ejecuto_Promo\"] = t1[\"pred\"].fillna(0)"
      ],
      "execution_count": 713,
      "outputs": []
    },
    {
      "cell_type": "code",
      "metadata": {
        "colab": {
          "base_uri": "https://localhost:8080/"
        },
        "id": "vDAag6klKNTl",
        "outputId": "9e9adb65-4591-4bfc-d0a4-5d168517af00"
      },
      "source": [
        "# Grupo 2\n",
        "M2[\"var1\"]=M2[\"Hl\"]/M2[\"Nr\"]\n",
        "M2[\"var2\"]=M2[\"Hl\"]*M2[\"Nr\"]\n",
        "M2[\"var3\"]=M2[\"Nr\"]*M2[\"Nr\"]\n",
        "M2[\"var4\"]=M2[\"Hl\"]*M2[\"Hl\"]\n",
        "M2[\"var5\"]=M2[\"Nr\"]/M2[\"Hl\"]\n",
        "M2[\"var6\"]=M2[\"Nr\"]+M2[\"Hl\"]\n",
        "\n",
        "M220181 = M2[M2[\"campañas\"]==\"20181\"]\n",
        "M220182 = M2[M2[\"campañas\"]==\"20182\"]\n",
        "M220183 = M2[M2[\"campañas\"]==\"20183\"]\n",
        "M220184 = M2[M2[\"campañas\"]==\"20184\"]\n",
        "M220185 = M2[M2[\"campañas\"]==\"20185\"]\n",
        "M220186 = M2[M2[\"campañas\"]==\"20186\"]\n",
        "M220187 = M2[M2[\"campañas\"]==\"20187\"]\n",
        "M220188 = M2[M2[\"campañas\"]==\"20188\"]\n",
        "M220189 = M2[M2[\"campañas\"]==\"20189\"]\n",
        "M2201810 = M2[M2[\"campañas\"]==\"201810\"]\n",
        "M2201811 = M2[M2[\"campañas\"]==\"201811\"]\n",
        "M2201812 = M2[M2[\"campañas\"]==\"201812\"]\n",
        "M220191 = M2[M2[\"campañas\"]==\"20191\"]\n",
        "M220192 = M2[M2[\"campañas\"]==\"20192\"]\n",
        "M220193 = M2[M2[\"campañas\"]==\"20193\"]\n",
        "M220194 = M2[M2[\"campañas\"]==\"20194\"]\n",
        "M220195 = M2[M2[\"campañas\"]==\"20195\"]\n",
        "M220196 = M2[M2[\"campañas\"]==\"20196\"]\n",
        "M220197 = M2[M2[\"campañas\"]==\"20197\"]\n",
        "M220198 = M2[M2[\"campañas\"]==\"20198\"]\n",
        "\n",
        "M220188_v1 = M220188.merge(promoDF1,right_on=[\"Cupo\",\"Marca\",\"Cliente\",\"campañas\"],left_on=[\"Cupo\",\"Marca\",\"Cliente\",\"campañas\"],how=\"inner\").drop_duplicates()\n",
        "M220189_v1 = M220189.merge(promoDF1,right_on=[\"Cupo\",\"Marca\",\"Cliente\",\"campañas\"],left_on=[\"Cupo\",\"Marca\",\"Cliente\",\"campañas\"],how=\"inner\").drop_duplicates()\n",
        "M2201810_v1 = M2201810.merge(promoDF1,right_on=[\"Cupo\",\"Marca\",\"Cliente\",\"campañas\"],left_on=[\"Cupo\",\"Marca\",\"Cliente\",\"campañas\"],how=\"inner\").drop_duplicates()\n",
        "M2201811_v1 = M2201811.merge(promoDF1,right_on=[\"Cupo\",\"Marca\",\"Cliente\",\"campañas\"],left_on=[\"Cupo\",\"Marca\",\"Cliente\",\"campañas\"],how=\"inner\").drop_duplicates()\n",
        "M2201812_v1 = M2201812.merge(promoDF1,right_on=[\"Cupo\",\"Marca\",\"Cliente\",\"campañas\"],left_on=[\"Cupo\",\"Marca\",\"Cliente\",\"campañas\"],how=\"inner\").drop_duplicates()\n",
        "M220191_v1 = M220191.merge(promoDF1,right_on=[\"Cupo\",\"Marca\",\"Cliente\",\"campañas\"],left_on=[\"Cupo\",\"Marca\",\"Cliente\",\"campañas\"],how=\"inner\").drop_duplicates()\n",
        "M220192_v1 = M220192.merge(promoDF1,right_on=[\"Cupo\",\"Marca\",\"Cliente\",\"campañas\"],left_on=[\"Cupo\",\"Marca\",\"Cliente\",\"campañas\"],how=\"inner\").drop_duplicates()\n",
        "M220193_v1 = M220193.merge(promoDF1,right_on=[\"Cupo\",\"Marca\",\"Cliente\",\"campañas\"],left_on=[\"Cupo\",\"Marca\",\"Cliente\",\"campañas\"],how=\"inner\").drop_duplicates()\n",
        "#M220194_v1 = M220194.merge(promoDF1,right_on=[\"Cupo\",\"Marca\",\"Cliente\",\"campañas\"],left_on=[\"Cupo\",\"Marca\",\"Cliente\",\"campañas\"],how=\"inner\").drop_duplicates()\n",
        "#M220195_v1 = M220195.merge(promoDF1,right_on=[\"Cupo\",\"Marca\",\"Cliente\",\"campañas\"],left_on=[\"Cupo\",\"Marca\",\"Cliente\",\"campañas\"],how=\"inner\").drop_duplicates()\n",
        "M220196_v1 = M220196.merge(promoDF1,right_on=[\"Cupo\",\"Marca\",\"Cliente\",\"campañas\"],left_on=[\"Cupo\",\"Marca\",\"Cliente\",\"campañas\"],how=\"inner\").drop_duplicates()\n",
        "M220197_v1 = M220197.merge(promoDF1,right_on=[\"Cupo\",\"Marca\",\"Cliente\",\"campañas\"],left_on=[\"Cupo\",\"Marca\",\"Cliente\",\"campañas\"],how=\"inner\").drop_duplicates()\n",
        "M220198_v1 = M220198.merge(promoDF1,right_on=[\"Cupo\",\"Marca\",\"Cliente\",\"campañas\"],left_on=[\"Cupo\",\"Marca\",\"Cliente\",\"campañas\"],how=\"inner\").drop_duplicates()\n",
        "\n"
      ],
      "execution_count": 714,
      "outputs": [
        {
          "output_type": "stream",
          "text": [
            "/usr/local/lib/python3.6/dist-packages/ipykernel_launcher.py:2: SettingWithCopyWarning: \n",
            "A value is trying to be set on a copy of a slice from a DataFrame.\n",
            "Try using .loc[row_indexer,col_indexer] = value instead\n",
            "\n",
            "See the caveats in the documentation: https://pandas.pydata.org/pandas-docs/stable/user_guide/indexing.html#returning-a-view-versus-a-copy\n",
            "  \n",
            "/usr/local/lib/python3.6/dist-packages/ipykernel_launcher.py:3: SettingWithCopyWarning: \n",
            "A value is trying to be set on a copy of a slice from a DataFrame.\n",
            "Try using .loc[row_indexer,col_indexer] = value instead\n",
            "\n",
            "See the caveats in the documentation: https://pandas.pydata.org/pandas-docs/stable/user_guide/indexing.html#returning-a-view-versus-a-copy\n",
            "  This is separate from the ipykernel package so we can avoid doing imports until\n",
            "/usr/local/lib/python3.6/dist-packages/ipykernel_launcher.py:4: SettingWithCopyWarning: \n",
            "A value is trying to be set on a copy of a slice from a DataFrame.\n",
            "Try using .loc[row_indexer,col_indexer] = value instead\n",
            "\n",
            "See the caveats in the documentation: https://pandas.pydata.org/pandas-docs/stable/user_guide/indexing.html#returning-a-view-versus-a-copy\n",
            "  after removing the cwd from sys.path.\n",
            "/usr/local/lib/python3.6/dist-packages/ipykernel_launcher.py:5: SettingWithCopyWarning: \n",
            "A value is trying to be set on a copy of a slice from a DataFrame.\n",
            "Try using .loc[row_indexer,col_indexer] = value instead\n",
            "\n",
            "See the caveats in the documentation: https://pandas.pydata.org/pandas-docs/stable/user_guide/indexing.html#returning-a-view-versus-a-copy\n",
            "  \"\"\"\n",
            "/usr/local/lib/python3.6/dist-packages/ipykernel_launcher.py:6: SettingWithCopyWarning: \n",
            "A value is trying to be set on a copy of a slice from a DataFrame.\n",
            "Try using .loc[row_indexer,col_indexer] = value instead\n",
            "\n",
            "See the caveats in the documentation: https://pandas.pydata.org/pandas-docs/stable/user_guide/indexing.html#returning-a-view-versus-a-copy\n",
            "  \n",
            "/usr/local/lib/python3.6/dist-packages/ipykernel_launcher.py:7: SettingWithCopyWarning: \n",
            "A value is trying to be set on a copy of a slice from a DataFrame.\n",
            "Try using .loc[row_indexer,col_indexer] = value instead\n",
            "\n",
            "See the caveats in the documentation: https://pandas.pydata.org/pandas-docs/stable/user_guide/indexing.html#returning-a-view-versus-a-copy\n",
            "  import sys\n"
          ],
          "name": "stderr"
        }
      ]
    },
    {
      "cell_type": "code",
      "metadata": {
        "colab": {
          "base_uri": "https://localhost:8080/",
          "height": 439
        },
        "id": "6Thi8kW_3LNy",
        "outputId": "8f8af6f4-73d6-4a76-8fed-d86543938aec"
      },
      "source": [
        "M220188_v1"
      ],
      "execution_count": 715,
      "outputs": [
        {
          "output_type": "execute_result",
          "data": {
            "text/html": [
              "<div>\n",
              "<style scoped>\n",
              "    .dataframe tbody tr th:only-of-type {\n",
              "        vertical-align: middle;\n",
              "    }\n",
              "\n",
              "    .dataframe tbody tr th {\n",
              "        vertical-align: top;\n",
              "    }\n",
              "\n",
              "    .dataframe thead th {\n",
              "        text-align: right;\n",
              "    }\n",
              "</style>\n",
              "<table border=\"1\" class=\"dataframe\">\n",
              "  <thead>\n",
              "    <tr style=\"text-align: right;\">\n",
              "      <th></th>\n",
              "      <th>Cliente</th>\n",
              "      <th>Año</th>\n",
              "      <th>Mes</th>\n",
              "      <th>ClaseEnvase</th>\n",
              "      <th>SegmentoPrecio</th>\n",
              "      <th>Marca</th>\n",
              "      <th>Cupo</th>\n",
              "      <th>Nr</th>\n",
              "      <th>Hl</th>\n",
              "      <th>Dcto</th>\n",
              "      <th>campañas</th>\n",
              "      <th>var1</th>\n",
              "      <th>var2</th>\n",
              "      <th>var3</th>\n",
              "      <th>var4</th>\n",
              "      <th>var5</th>\n",
              "      <th>var6</th>\n",
              "      <th>Flag_ejecutada</th>\n",
              "      <th>Resta_Mes</th>\n",
              "      <th>Fecha_Hasta</th>\n",
              "      <th>Fecha_Desde</th>\n",
              "      <th>dias</th>\n",
              "    </tr>\n",
              "  </thead>\n",
              "  <tbody>\n",
              "    <tr>\n",
              "      <th>0</th>\n",
              "      <td>2395</td>\n",
              "      <td>2018</td>\n",
              "      <td>8</td>\n",
              "      <td>1</td>\n",
              "      <td>0.0</td>\n",
              "      <td>39</td>\n",
              "      <td>20.0</td>\n",
              "      <td>45965.80</td>\n",
              "      <td>0.24</td>\n",
              "      <td>-30252.52</td>\n",
              "      <td>20188</td>\n",
              "      <td>0.000005</td>\n",
              "      <td>11031.7920</td>\n",
              "      <td>2.112855e+09</td>\n",
              "      <td>0.0576</td>\n",
              "      <td>191524.166667</td>\n",
              "      <td>45966.04</td>\n",
              "      <td>1</td>\n",
              "      <td>0</td>\n",
              "      <td>2018-08-30</td>\n",
              "      <td>2018-08-12</td>\n",
              "      <td>18</td>\n",
              "    </tr>\n",
              "    <tr>\n",
              "      <th>1</th>\n",
              "      <td>2447</td>\n",
              "      <td>2018</td>\n",
              "      <td>8</td>\n",
              "      <td>1</td>\n",
              "      <td>0.0</td>\n",
              "      <td>39</td>\n",
              "      <td>20.0</td>\n",
              "      <td>332343.48</td>\n",
              "      <td>1.07</td>\n",
              "      <td>-14138.97</td>\n",
              "      <td>20188</td>\n",
              "      <td>0.000003</td>\n",
              "      <td>355607.5236</td>\n",
              "      <td>1.104522e+11</td>\n",
              "      <td>1.1449</td>\n",
              "      <td>310601.383178</td>\n",
              "      <td>332344.55</td>\n",
              "      <td>1</td>\n",
              "      <td>0</td>\n",
              "      <td>2018-08-23</td>\n",
              "      <td>2018-08-15</td>\n",
              "      <td>8</td>\n",
              "    </tr>\n",
              "    <tr>\n",
              "      <th>2</th>\n",
              "      <td>2541</td>\n",
              "      <td>2018</td>\n",
              "      <td>8</td>\n",
              "      <td>1</td>\n",
              "      <td>0.0</td>\n",
              "      <td>39</td>\n",
              "      <td>20.0</td>\n",
              "      <td>54959.72</td>\n",
              "      <td>0.30</td>\n",
              "      <td>-40333.82</td>\n",
              "      <td>20188</td>\n",
              "      <td>0.000005</td>\n",
              "      <td>16487.9160</td>\n",
              "      <td>3.020571e+09</td>\n",
              "      <td>0.0900</td>\n",
              "      <td>183199.066667</td>\n",
              "      <td>54960.02</td>\n",
              "      <td>1</td>\n",
              "      <td>0</td>\n",
              "      <td>2018-08-22</td>\n",
              "      <td>2018-08-12</td>\n",
              "      <td>10</td>\n",
              "    </tr>\n",
              "    <tr>\n",
              "      <th>3</th>\n",
              "      <td>2580</td>\n",
              "      <td>2018</td>\n",
              "      <td>8</td>\n",
              "      <td>1</td>\n",
              "      <td>0.0</td>\n",
              "      <td>39</td>\n",
              "      <td>20.0</td>\n",
              "      <td>382565.27</td>\n",
              "      <td>1.37</td>\n",
              "      <td>-54712.29</td>\n",
              "      <td>20188</td>\n",
              "      <td>0.000004</td>\n",
              "      <td>524114.4199</td>\n",
              "      <td>1.463562e+11</td>\n",
              "      <td>1.8769</td>\n",
              "      <td>279244.722628</td>\n",
              "      <td>382566.64</td>\n",
              "      <td>1</td>\n",
              "      <td>0</td>\n",
              "      <td>2018-08-16</td>\n",
              "      <td>2018-08-12</td>\n",
              "      <td>4</td>\n",
              "    </tr>\n",
              "    <tr>\n",
              "      <th>4</th>\n",
              "      <td>2640</td>\n",
              "      <td>2018</td>\n",
              "      <td>8</td>\n",
              "      <td>1</td>\n",
              "      <td>0.0</td>\n",
              "      <td>39</td>\n",
              "      <td>20.0</td>\n",
              "      <td>72464.22</td>\n",
              "      <td>0.27</td>\n",
              "      <td>-13109.81</td>\n",
              "      <td>20188</td>\n",
              "      <td>0.000004</td>\n",
              "      <td>19565.3394</td>\n",
              "      <td>5.251063e+09</td>\n",
              "      <td>0.0729</td>\n",
              "      <td>268386.000000</td>\n",
              "      <td>72464.49</td>\n",
              "      <td>1</td>\n",
              "      <td>0</td>\n",
              "      <td>2018-08-17</td>\n",
              "      <td>2018-08-13</td>\n",
              "      <td>4</td>\n",
              "    </tr>\n",
              "    <tr>\n",
              "      <th>...</th>\n",
              "      <td>...</td>\n",
              "      <td>...</td>\n",
              "      <td>...</td>\n",
              "      <td>...</td>\n",
              "      <td>...</td>\n",
              "      <td>...</td>\n",
              "      <td>...</td>\n",
              "      <td>...</td>\n",
              "      <td>...</td>\n",
              "      <td>...</td>\n",
              "      <td>...</td>\n",
              "      <td>...</td>\n",
              "      <td>...</td>\n",
              "      <td>...</td>\n",
              "      <td>...</td>\n",
              "      <td>...</td>\n",
              "      <td>...</td>\n",
              "      <td>...</td>\n",
              "      <td>...</td>\n",
              "      <td>...</td>\n",
              "      <td>...</td>\n",
              "      <td>...</td>\n",
              "    </tr>\n",
              "    <tr>\n",
              "      <th>117</th>\n",
              "      <td>9570</td>\n",
              "      <td>2018</td>\n",
              "      <td>8</td>\n",
              "      <td>1</td>\n",
              "      <td>0.0</td>\n",
              "      <td>39</td>\n",
              "      <td>20.0</td>\n",
              "      <td>109532.95</td>\n",
              "      <td>0.39</td>\n",
              "      <td>-14033.78</td>\n",
              "      <td>20188</td>\n",
              "      <td>0.000004</td>\n",
              "      <td>42717.8505</td>\n",
              "      <td>1.199747e+10</td>\n",
              "      <td>0.1521</td>\n",
              "      <td>280853.717949</td>\n",
              "      <td>109533.34</td>\n",
              "      <td>1</td>\n",
              "      <td>0</td>\n",
              "      <td>2018-08-19</td>\n",
              "      <td>2018-08-13</td>\n",
              "      <td>6</td>\n",
              "    </tr>\n",
              "    <tr>\n",
              "      <th>118</th>\n",
              "      <td>9623</td>\n",
              "      <td>2018</td>\n",
              "      <td>8</td>\n",
              "      <td>1</td>\n",
              "      <td>0.0</td>\n",
              "      <td>39</td>\n",
              "      <td>20.0</td>\n",
              "      <td>27085.86</td>\n",
              "      <td>0.12</td>\n",
              "      <td>-11493.56</td>\n",
              "      <td>20188</td>\n",
              "      <td>0.000004</td>\n",
              "      <td>3250.3032</td>\n",
              "      <td>7.336438e+08</td>\n",
              "      <td>0.0144</td>\n",
              "      <td>225715.500000</td>\n",
              "      <td>27085.98</td>\n",
              "      <td>1</td>\n",
              "      <td>0</td>\n",
              "      <td>2018-08-20</td>\n",
              "      <td>2018-08-15</td>\n",
              "      <td>5</td>\n",
              "    </tr>\n",
              "    <tr>\n",
              "      <th>119</th>\n",
              "      <td>9700</td>\n",
              "      <td>2018</td>\n",
              "      <td>8</td>\n",
              "      <td>1</td>\n",
              "      <td>0.0</td>\n",
              "      <td>39</td>\n",
              "      <td>20.0</td>\n",
              "      <td>26131.87</td>\n",
              "      <td>0.12</td>\n",
              "      <td>-11951.26</td>\n",
              "      <td>20188</td>\n",
              "      <td>0.000005</td>\n",
              "      <td>3135.8244</td>\n",
              "      <td>6.828746e+08</td>\n",
              "      <td>0.0144</td>\n",
              "      <td>217765.583333</td>\n",
              "      <td>26131.99</td>\n",
              "      <td>1</td>\n",
              "      <td>0</td>\n",
              "      <td>2018-08-19</td>\n",
              "      <td>2018-08-13</td>\n",
              "      <td>6</td>\n",
              "    </tr>\n",
              "    <tr>\n",
              "      <th>120</th>\n",
              "      <td>9947</td>\n",
              "      <td>2018</td>\n",
              "      <td>8</td>\n",
              "      <td>1</td>\n",
              "      <td>0.0</td>\n",
              "      <td>39</td>\n",
              "      <td>20.0</td>\n",
              "      <td>229585.88</td>\n",
              "      <td>0.80</td>\n",
              "      <td>-27035.39</td>\n",
              "      <td>20188</td>\n",
              "      <td>0.000003</td>\n",
              "      <td>183668.7040</td>\n",
              "      <td>5.270968e+10</td>\n",
              "      <td>0.6400</td>\n",
              "      <td>286982.350000</td>\n",
              "      <td>229586.68</td>\n",
              "      <td>1</td>\n",
              "      <td>0</td>\n",
              "      <td>2018-08-16</td>\n",
              "      <td>2018-08-13</td>\n",
              "      <td>3</td>\n",
              "    </tr>\n",
              "    <tr>\n",
              "      <th>121</th>\n",
              "      <td>10329</td>\n",
              "      <td>2018</td>\n",
              "      <td>8</td>\n",
              "      <td>1</td>\n",
              "      <td>0.0</td>\n",
              "      <td>39</td>\n",
              "      <td>20.0</td>\n",
              "      <td>278358.78</td>\n",
              "      <td>1.01</td>\n",
              "      <td>-44882.81</td>\n",
              "      <td>20188</td>\n",
              "      <td>0.000004</td>\n",
              "      <td>281142.3678</td>\n",
              "      <td>7.748361e+10</td>\n",
              "      <td>1.0201</td>\n",
              "      <td>275602.752475</td>\n",
              "      <td>278359.79</td>\n",
              "      <td>1</td>\n",
              "      <td>0</td>\n",
              "      <td>2018-08-24</td>\n",
              "      <td>2018-08-13</td>\n",
              "      <td>11</td>\n",
              "    </tr>\n",
              "  </tbody>\n",
              "</table>\n",
              "<p>119 rows × 22 columns</p>\n",
              "</div>"
            ],
            "text/plain": [
              "     Cliente   Año  Mes  ClaseEnvase  ...  Resta_Mes  Fecha_Hasta  Fecha_Desde  dias\n",
              "0       2395  2018    8            1  ...          0   2018-08-30   2018-08-12    18\n",
              "1       2447  2018    8            1  ...          0   2018-08-23   2018-08-15     8\n",
              "2       2541  2018    8            1  ...          0   2018-08-22   2018-08-12    10\n",
              "3       2580  2018    8            1  ...          0   2018-08-16   2018-08-12     4\n",
              "4       2640  2018    8            1  ...          0   2018-08-17   2018-08-13     4\n",
              "..       ...   ...  ...          ...  ...        ...          ...          ...   ...\n",
              "117     9570  2018    8            1  ...          0   2018-08-19   2018-08-13     6\n",
              "118     9623  2018    8            1  ...          0   2018-08-20   2018-08-15     5\n",
              "119     9700  2018    8            1  ...          0   2018-08-19   2018-08-13     6\n",
              "120     9947  2018    8            1  ...          0   2018-08-16   2018-08-13     3\n",
              "121    10329  2018    8            1  ...          0   2018-08-24   2018-08-13    11\n",
              "\n",
              "[119 rows x 22 columns]"
            ]
          },
          "metadata": {
            "tags": []
          },
          "execution_count": 715
        }
      ]
    },
    {
      "cell_type": "code",
      "metadata": {
        "id": "Hg8hqfn-KNTl"
      },
      "source": [
        "train_M2=pd.concat([M220196_v1,M220197_v1])\n",
        "# train_M2=pd.concat([M220196_v1,M220197_v1,M220198_v1])\n",
        "# train_M2=pd.concat([M220188_v1,M220189_v1,M2201812_v1,M220192_v1,\n",
        "#                     M220196_v1,M220197_v1])\n",
        "test_M2=M220198_v1\n",
        "\n",
        "\n",
        "train_M2_1=train_M2[['Cliente', 'Marca',\n",
        "       'Cupo', 'Nr', 'Hl', 'Dcto', 'Flag_ejecutada',\"var1\",\"var2\",\"var3\",\"var4\",\"var5\",\"var6\"]]\n",
        "test_M2_1 = test_M2[['Cliente', 'Marca',\"var1\",\"var2\",\"var3\",\"var4\",\"var5\",\"var6\",\n",
        "       'Cupo', 'Nr', 'Hl', 'Dcto', 'Flag_ejecutada']]\n",
        "Train_M2=test_M2_1[[\"Cliente\",\"Marca\",\"Cupo\",\"Flag_ejecutada\"]].merge(train_M2_1.groupby([\"Cliente\",\"Cupo\",\"Marca\"]).sum().add_prefix(\"SUM_\").reset_index(),\n",
        "                                                            on=[\"Cliente\",\"Marca\",\"Cupo\"],how=\"inner\").fillna(0)\n",
        "Train_M2=Train_M2.merge(train_M2_1.groupby([\"Cliente\",\"Cupo\",\"Marca\"]).mean().add_prefix(\"MEAN_\").reset_index(),\n",
        "                                                            on=[\"Cliente\",\"Marca\",\"Cupo\"],how=\"inner\").fillna(0)\n",
        "\n"
      ],
      "execution_count": 716,
      "outputs": []
    },
    {
      "cell_type": "code",
      "metadata": {
        "id": "EFZrYSxYNHPj"
      },
      "source": [
        "# AGREGADO - nueva columna Flag_ofrecida contiene las ofertas que\n",
        "# se le hicieron al cliente en el periodo seleccionado\n",
        "# train_M2_1_ofertas_ofrecidas = train_M2_1.groupby(['Cliente'])[['Flag_ejecutada']].count().reset_index()\n",
        "# train_M2_1_ofertas_ofrecidas.rename(columns={'Flag_ejecutada':'Flag_ofrecida'},inplace=True)\n",
        "# Train_M2 = Train_M2.merge(train_M2_1_ofertas_ofrecidas,on='Cliente',how='left')"
      ],
      "execution_count": 717,
      "outputs": []
    },
    {
      "cell_type": "code",
      "metadata": {
        "id": "-HHdQT-PKNTl"
      },
      "source": [
        "Train_M2=Train_M2.merge(clientes_atributos[[\"Cliente\",\"Estrato\",\"EF\"]],on=\"Cliente\",how=\"left\")"
      ],
      "execution_count": 718,
      "outputs": []
    },
    {
      "cell_type": "code",
      "metadata": {
        "id": "g5y_8yTAKNTl"
      },
      "source": [
        "# Train_M2=Train_M2.merge(clusters[['Cliente','Cluster_C2','Cluster_C3','Cluster_C4']],on=\"Cliente\",how=\"left\")\n",
        "Train_M2=Train_M2.merge(clusters[['Cliente','Cluster_C2','Cluster_C3','Cluster_C4','Cluster_C5']],on=\"Cliente\",how=\"left\")\n",
        "# Train_M2=Train_M2.merge(clusters[['Cliente','Cluster_C4']],on=\"Cliente\",how=\"left\")"
      ],
      "execution_count": 719,
      "outputs": []
    },
    {
      "cell_type": "code",
      "metadata": {
        "colab": {
          "base_uri": "https://localhost:8080/"
        },
        "id": "p8ZKZYjO5VIY",
        "outputId": "0f65ee0a-f4a3-410b-f88f-fa0d29fb8f4a"
      },
      "source": [
        "train_M2['Flag_ejecutada'].value_counts()"
      ],
      "execution_count": 720,
      "outputs": [
        {
          "output_type": "execute_result",
          "data": {
            "text/plain": [
              "0    601\n",
              "1    258\n",
              "Name: Flag_ejecutada, dtype: int64"
            ]
          },
          "metadata": {
            "tags": []
          },
          "execution_count": 720
        }
      ]
    },
    {
      "cell_type": "code",
      "metadata": {
        "id": "jlDuIZsMKNTl"
      },
      "source": [
        "test = pd.read_csv(url+\"/test.csv\")\n",
        "testM1 = test[(test[\"Marca\"]==40)&(test[\"Cupo\"]==16)]\n",
        "testM2 = test[(test[\"Marca\"]==39)&(test[\"Cupo\"]==20)]\n",
        "testM3 = test[(test[\"Marca\"]==29)&(test[\"Cupo\"]==9)]\n",
        "\n",
        "# test_M2=pd.concat([M220197_v1,M220198_v1])\n",
        "test_M2=pd.concat([M220197_v1,M220198_v1])\n",
        "# test_M2=pd.concat([M220189_v1,M2201812_v1,M220192_v1,\n",
        "#                    M220197_v1,M220198_v1])"
      ],
      "execution_count": 721,
      "outputs": []
    },
    {
      "cell_type": "code",
      "metadata": {
        "id": "hw6IfMF-KNTm"
      },
      "source": [
        "\n",
        "testM2 = test[(test[\"Marca\"]==39)&(test[\"Cupo\"]==20)]\n",
        "test_M2_1=test_M2[['Cliente', 'ClaseEnvase', 'Marca',\n",
        "       'Cupo', 'Nr', 'Hl', 'Dcto', 'Flag_ejecutada',\"var1\",\"var2\",\"var3\",\"var4\",\"var5\",\"var6\"]]\n",
        "\n",
        "Test_M2=testM2[[\"Cliente\",\"Marca\",\"Cupo\"]].merge(test_M2_1.groupby([\"Cliente\",\"Cupo\",\"Marca\"]).sum().add_prefix(\"SUM_\").reset_index(),\n",
        "                                                            on=[\"Cliente\",\"Marca\",\"Cupo\"],how=\"inner\").fillna(0)\n",
        "Test_M2=Test_M2.merge(test_M2_1.groupby([\"Cliente\",\"Cupo\",\"Marca\"]).mean().add_prefix(\"MEAN_\").reset_index(),\n",
        "                                                            on=[\"Cliente\",\"Marca\",\"Cupo\"],how=\"inner\").fillna(0)\n"
      ],
      "execution_count": 722,
      "outputs": []
    },
    {
      "cell_type": "code",
      "metadata": {
        "id": "PARy2Y9MNRmr"
      },
      "source": [
        "# AGREGADO - nueva columna Flag_ofrecida contiene las ofertas que\n",
        "# se le hicieron al cliente en el periodo seleccionado\n",
        "# test_M2_1_ofertas_ofrecidas = test_M2_1.groupby(['Cliente'])[['Flag_ejecutada']].count().reset_index()\n",
        "# test_M2_1_ofertas_ofrecidas.rename(columns={'Flag_ejecutada':'Flag_ofrecida'},inplace=True)\n",
        "# Test_M2 = Test_M2.merge(test_M2_1_ofertas_ofrecidas,on='Cliente',how='left')"
      ],
      "execution_count": 723,
      "outputs": []
    },
    {
      "cell_type": "code",
      "metadata": {
        "id": "0cxmQd3EKNTm"
      },
      "source": [
        "Test_M2=Test_M2.merge(clientes_atributos[[\"Cliente\",\"Estrato\",\"EF\"]],on=\"Cliente\",how=\"left\")"
      ],
      "execution_count": 724,
      "outputs": []
    },
    {
      "cell_type": "code",
      "metadata": {
        "id": "eoCIwdJxKNTm"
      },
      "source": [
        "# Test_M2=Test_M2.merge(clusters[['Cliente','Cluster_C2','Cluster_C3','Cluster_C4']],on=\"Cliente\",how=\"left\")\n",
        "Test_M2=Test_M2.merge(clusters[['Cliente','Cluster_C2','Cluster_C3','Cluster_C4','Cluster_C5']],on=\"Cliente\",how=\"left\")"
      ],
      "execution_count": 725,
      "outputs": []
    },
    {
      "cell_type": "code",
      "metadata": {
        "colab": {
          "base_uri": "https://localhost:8080/"
        },
        "id": "Z-UmrCMyKNTm",
        "outputId": "7fcdbc4b-54ea-4746-fbe5-873fc5e9699a"
      },
      "source": [
        "# MODELADO\n",
        "import pandas as pd \n",
        "import numpy as np \n",
        "import matplotlib.pyplot as plt \n",
        "import gc\n",
        "import os\n",
        "import logging\n",
        "import datetime\n",
        "import warnings\n",
        "import numpy as np\n",
        "import pandas as pd\n",
        "import seaborn as sns\n",
        "import lightgbm as lgb\n",
        "from tqdm import tqdm_notebook\n",
        "import matplotlib.pyplot as plt\n",
        "from sklearn.metrics import mean_squared_error\n",
        "from sklearn.metrics import roc_auc_score, roc_curve\n",
        "from sklearn.model_selection import StratifiedKFold\n",
        "param = {\n",
        "    'bagging_freq': 5, #5\n",
        "    'bagging_fraction': 0.4, #0.4\n",
        "    'boost_from_average':'false',\n",
        "    'min_child_samples': 30,\n",
        "    'boost': 'gbdt',\n",
        "    'feature_fraction': 0.5, #0.05\n",
        "    'learning_rate': 0.01, #0.01\n",
        "    'max_depth': -1,  \n",
        "    'metric':'auc',\n",
        "    'min_data_in_leaf': 80, #80\n",
        "    'min_sum_hessian_in_leaf': 10, #10\n",
        "    'num_leaves': 13, #13\n",
        "    'num_threads': 8, \n",
        "    'tree_learner': 'serial',\n",
        "    'objective': 'binary', \n",
        "    'verbosity': 1,\n",
        "    \"is_unbalance\":False,\n",
        "    \"random_state\":1234\n",
        "}\n",
        "train_df=Train_M2\n",
        "test_df=Test_M2\n",
        "features = [c for c in train_df.columns if c not in [\"Cliente\",\"Cupo\",\"Marca\",\"Flag_ejecutada\"]]#\"SUM_flagdigital\",\"SUM_flagpedidoanulado\",\"flagsupervisor\"]]\n",
        "target=train_df[\"Flag_ejecutada\"]\n",
        "train_df.fillna(train_df.mean(), inplace=True) #reemplazar nan con media\n",
        "test_df.fillna(test_df.mean(), inplace=True) \n",
        "\n",
        "folds = StratifiedKFold(n_splits=5, shuffle=True, random_state=44000)\n",
        "oof = np.zeros(len(train_df))\n",
        "predictions = np.zeros(len(test_df))\n",
        "feature_importance_df = pd.DataFrame()\n",
        "\n",
        "for fold_, (trn_idx, val_idx) in enumerate(folds.split(train_df.values, target.values)):\n",
        "    print(\"Fold {}\".format(fold_))\n",
        "    trn_data = lgb.Dataset(train_df.iloc[trn_idx][features], label=target.iloc[trn_idx])\n",
        "    val_data = lgb.Dataset(train_df.iloc[val_idx][features], label=target.iloc[val_idx])\n",
        "\n",
        "    num_round = 10000\n",
        "    clf = lgb.train(param, trn_data, num_round, valid_sets = [trn_data, val_data], verbose_eval=1000, early_stopping_rounds = 1000)\n",
        "    oof[val_idx] = clf.predict(train_df.iloc[val_idx][features], num_iteration=clf.best_iteration)\n",
        "    \n",
        "    fold_importance_df = pd.DataFrame()\n",
        "    fold_importance_df[\"Feature\"] = features\n",
        "    fold_importance_df[\"importance\"] = clf.feature_importance()\n",
        "    fold_importance_df[\"fold\"] = fold_ + 1\n",
        "    feature_importance_df = pd.concat([feature_importance_df, fold_importance_df], axis=0)\n",
        "    \n",
        "    predictions += clf.predict(test_df[features], num_iteration=clf.best_iteration) / folds.n_splits\n",
        "\n",
        "print(\"CV score: {:<8.5f}\".format(roc_auc_score(target, oof)))   \n"
      ],
      "execution_count": 726,
      "outputs": [
        {
          "output_type": "stream",
          "text": [
            "Fold 0\n",
            "Training until validation scores don't improve for 1000 rounds.\n",
            "[1000]\ttraining's auc: 0.74334\tvalid_1's auc: 0.662082\n",
            "Early stopping, best iteration is:\n",
            "[255]\ttraining's auc: 0.718788\tvalid_1's auc: 0.698759\n",
            "Fold 1\n",
            "Training until validation scores don't improve for 1000 rounds.\n",
            "[1000]\ttraining's auc: 0.736906\tvalid_1's auc: 0.651834\n",
            "Early stopping, best iteration is:\n",
            "[329]\ttraining's auc: 0.71775\tvalid_1's auc: 0.669993\n",
            "Fold 2\n",
            "Training until validation scores don't improve for 1000 rounds.\n",
            "[1000]\ttraining's auc: 0.730254\tvalid_1's auc: 0.717073\n",
            "Early stopping, best iteration is:\n",
            "[871]\ttraining's auc: 0.727229\tvalid_1's auc: 0.722403\n",
            "Fold 3\n",
            "Training until validation scores don't improve for 1000 rounds.\n",
            "[1000]\ttraining's auc: 0.741693\tvalid_1's auc: 0.627462\n",
            "Early stopping, best iteration is:\n",
            "[610]\ttraining's auc: 0.733498\tvalid_1's auc: 0.632882\n",
            "Fold 4\n",
            "Training until validation scores don't improve for 1000 rounds.\n",
            "[1000]\ttraining's auc: 0.736978\tvalid_1's auc: 0.666847\n",
            "Early stopping, best iteration is:\n",
            "[202]\ttraining's auc: 0.715542\tvalid_1's auc: 0.700452\n",
            "CV score: 0.66310 \n"
          ],
          "name": "stdout"
        }
      ]
    },
    {
      "cell_type": "code",
      "metadata": {
        "id": "JNluT0etKNTm"
      },
      "source": [
        "\n",
        "Test_M2[\"pred\"] = predictions\n",
        "t2=test[(test[\"Marca\"]==39)&(test[\"Cupo\"]==20)]\n",
        "t2=t2.merge(Test_M2[[\"Cliente\",\"Marca\",\"Cupo\",\"pred\"]],on=[\"Cliente\",\"Marca\",\"Cupo\"],how=\"left\")\n",
        "t2[\"Ejecuto_Promo\"] = t2[\"pred\"].fillna(0)"
      ],
      "execution_count": 727,
      "outputs": []
    },
    {
      "cell_type": "code",
      "metadata": {
        "colab": {
          "base_uri": "https://localhost:8080/",
          "height": 1000
        },
        "id": "PqS4DVVwKNTm",
        "outputId": "d2fdaaa2-6137-47e6-a439-0380a65e596d"
      },
      "source": [
        "cols = (feature_importance_df[[\"Feature\", \"importance\"]]\n",
        "        .groupby(\"Feature\")\n",
        "        .mean()\n",
        "        .sort_values(by=\"importance\", ascending=False)[:150].index)\n",
        "best_features = feature_importance_df.loc[feature_importance_df.Feature.isin(cols)]\n",
        "\n",
        "plt.figure(figsize=(14,28))\n",
        "sns.barplot(x=\"importance\", y=\"Feature\", data=best_features.sort_values(by=\"importance\",ascending=False))\n",
        "plt.title('Features importance (averaged/folds)')\n",
        "plt.tight_layout()\n"
      ],
      "execution_count": 728,
      "outputs": [
        {
          "output_type": "display_data",
          "data": {
            "image/png": "[encoded data removed]",
            "text/plain": [
              "<Figure size 1008x2016 with 1 Axes>"
            ]
          },
          "metadata": {
            "tags": [],
            "needs_background": "light"
          }
        }
      ]
    },
    {
      "cell_type": "code",
      "metadata": {
        "colab": {
          "base_uri": "https://localhost:8080/"
        },
        "id": "Je5l0rXbKNTm",
        "outputId": "53a7cc1f-9864-4e42-82fa-b791569f6b44"
      },
      "source": [
        "# Grupo 3\n",
        "M3[\"var1\"]=M3[\"Hl\"]/M3[\"Nr\"]\n",
        "M3[\"var2\"]=M3[\"Hl\"]*M3[\"Nr\"]\n",
        "M3[\"var3\"]=M3[\"Nr\"]*M3[\"Nr\"]\n",
        "M3[\"var4\"]=M3[\"Hl\"]*M3[\"Hl\"]\n",
        "M3[\"var5\"]=M3[\"Nr\"]/M3[\"Hl\"]\n",
        "M3[\"var6\"]=M3[\"Nr\"]+M3[\"Hl\"]\n",
        "M320181 = M3[M3[\"campañas\"]==\"20181\"]\n",
        "M320182 = M3[M3[\"campañas\"]==\"20182\"]\n",
        "M320183 = M3[M3[\"campañas\"]==\"20183\"]\n",
        "M320184 = M3[M3[\"campañas\"]==\"20184\"]\n",
        "M320185 = M3[M3[\"campañas\"]==\"20185\"]\n",
        "M320186 = M3[M3[\"campañas\"]==\"20186\"]\n",
        "M320187 = M3[M3[\"campañas\"]==\"20187\"]\n",
        "M320188 = M3[M3[\"campañas\"]==\"20188\"]\n",
        "M320189 = M3[M3[\"campañas\"]==\"20189\"]\n",
        "M3201810 = M3[M3[\"campañas\"]==\"201810\"]\n",
        "M3201811 = M3[M3[\"campañas\"]==\"201811\"]\n",
        "M3201812 = M3[M3[\"campañas\"]==\"201812\"]\n",
        "M320191 = M3[M3[\"campañas\"]==\"20191\"]\n",
        "M320192 = M3[M3[\"campañas\"]==\"20192\"]\n",
        "M320193 = M3[M3[\"campañas\"]==\"20193\"]\n",
        "M320194 = M3[M3[\"campañas\"]==\"20194\"]\n",
        "M320195 = M3[M3[\"campañas\"]==\"20195\"]\n",
        "M320196 = M3[M3[\"campañas\"]==\"20196\"]\n",
        "M320197 = M3[M3[\"campañas\"]==\"20197\"]\n",
        "M320198 = M3[M3[\"campañas\"]==\"20198\"]\n",
        "\n",
        "M320188_v1 = M320188.merge(promoDF1,right_on=[\"Cupo\",\"Marca\",\"Cliente\",\"campañas\"],left_on=[\"Cupo\",\"Marca\",\"Cliente\",\"campañas\"],how=\"inner\").drop_duplicates()\n",
        "M320189_v1 = M320189.merge(promoDF1,right_on=[\"Cupo\",\"Marca\",\"Cliente\",\"campañas\"],left_on=[\"Cupo\",\"Marca\",\"Cliente\",\"campañas\"],how=\"inner\").drop_duplicates()\n",
        "M3201810_v1 = M3201810.merge(promoDF1,right_on=[\"Cupo\",\"Marca\",\"Cliente\",\"campañas\"],left_on=[\"Cupo\",\"Marca\",\"Cliente\",\"campañas\"],how=\"inner\").drop_duplicates()\n",
        "M3201811_v1 = M3201811.merge(promoDF1,right_on=[\"Cupo\",\"Marca\",\"Cliente\",\"campañas\"],left_on=[\"Cupo\",\"Marca\",\"Cliente\",\"campañas\"],how=\"inner\").drop_duplicates()\n",
        "M3201812_v1 = M3201812.merge(promoDF1,right_on=[\"Cupo\",\"Marca\",\"Cliente\",\"campañas\"],left_on=[\"Cupo\",\"Marca\",\"Cliente\",\"campañas\"],how=\"inner\").drop_duplicates()\n",
        "#M320191_v1 = M320191.merge(promoDF1,right_on=[\"Cupo\",\"Marca\",\"Cliente\",\"campañas\"],left_on=[\"Cupo\",\"Marca\",\"Cliente\",\"campañas\"],how=\"inner\").drop_duplicates()\n",
        "M320192_v1 = M320192.merge(promoDF1,right_on=[\"Cupo\",\"Marca\",\"Cliente\",\"campañas\"],left_on=[\"Cupo\",\"Marca\",\"Cliente\",\"campañas\"],how=\"inner\").drop_duplicates()\n",
        "M320193_v1 = M320193.merge(promoDF1,right_on=[\"Cupo\",\"Marca\",\"Cliente\",\"campañas\"],left_on=[\"Cupo\",\"Marca\",\"Cliente\",\"campañas\"],how=\"inner\").drop_duplicates()\n",
        "M320194_v1 = M320194.merge(promoDF1,right_on=[\"Cupo\",\"Marca\",\"Cliente\",\"campañas\"],left_on=[\"Cupo\",\"Marca\",\"Cliente\",\"campañas\"],how=\"inner\").drop_duplicates()\n",
        "M320195_v1 = M320195.merge(promoDF1,right_on=[\"Cupo\",\"Marca\",\"Cliente\",\"campañas\"],left_on=[\"Cupo\",\"Marca\",\"Cliente\",\"campañas\"],how=\"inner\").drop_duplicates()\n",
        "M320196_v1 = M320196.merge(promoDF1,right_on=[\"Cupo\",\"Marca\",\"Cliente\",\"campañas\"],left_on=[\"Cupo\",\"Marca\",\"Cliente\",\"campañas\"],how=\"inner\").drop_duplicates()\n",
        "M320197_v1 = M320197.merge(promoDF1,right_on=[\"Cupo\",\"Marca\",\"Cliente\",\"campañas\"],left_on=[\"Cupo\",\"Marca\",\"Cliente\",\"campañas\"],how=\"inner\").drop_duplicates()\n",
        "M320198_v1 = M320198.merge(promoDF1,right_on=[\"Cupo\",\"Marca\",\"Cliente\",\"campañas\"],left_on=[\"Cupo\",\"Marca\",\"Cliente\",\"campañas\"],how=\"inner\").drop_duplicates()\n"
      ],
      "execution_count": 729,
      "outputs": [
        {
          "output_type": "stream",
          "text": [
            "/usr/local/lib/python3.6/dist-packages/ipykernel_launcher.py:2: SettingWithCopyWarning: \n",
            "A value is trying to be set on a copy of a slice from a DataFrame.\n",
            "Try using .loc[row_indexer,col_indexer] = value instead\n",
            "\n",
            "See the caveats in the documentation: https://pandas.pydata.org/pandas-docs/stable/user_guide/indexing.html#returning-a-view-versus-a-copy\n",
            "  \n",
            "/usr/local/lib/python3.6/dist-packages/ipykernel_launcher.py:3: SettingWithCopyWarning: \n",
            "A value is trying to be set on a copy of a slice from a DataFrame.\n",
            "Try using .loc[row_indexer,col_indexer] = value instead\n",
            "\n",
            "See the caveats in the documentation: https://pandas.pydata.org/pandas-docs/stable/user_guide/indexing.html#returning-a-view-versus-a-copy\n",
            "  This is separate from the ipykernel package so we can avoid doing imports until\n",
            "/usr/local/lib/python3.6/dist-packages/ipykernel_launcher.py:4: SettingWithCopyWarning: \n",
            "A value is trying to be set on a copy of a slice from a DataFrame.\n",
            "Try using .loc[row_indexer,col_indexer] = value instead\n",
            "\n",
            "See the caveats in the documentation: https://pandas.pydata.org/pandas-docs/stable/user_guide/indexing.html#returning-a-view-versus-a-copy\n",
            "  after removing the cwd from sys.path.\n",
            "/usr/local/lib/python3.6/dist-packages/ipykernel_launcher.py:5: SettingWithCopyWarning: \n",
            "A value is trying to be set on a copy of a slice from a DataFrame.\n",
            "Try using .loc[row_indexer,col_indexer] = value instead\n",
            "\n",
            "See the caveats in the documentation: https://pandas.pydata.org/pandas-docs/stable/user_guide/indexing.html#returning-a-view-versus-a-copy\n",
            "  \"\"\"\n",
            "/usr/local/lib/python3.6/dist-packages/ipykernel_launcher.py:6: SettingWithCopyWarning: \n",
            "A value is trying to be set on a copy of a slice from a DataFrame.\n",
            "Try using .loc[row_indexer,col_indexer] = value instead\n",
            "\n",
            "See the caveats in the documentation: https://pandas.pydata.org/pandas-docs/stable/user_guide/indexing.html#returning-a-view-versus-a-copy\n",
            "  \n",
            "/usr/local/lib/python3.6/dist-packages/ipykernel_launcher.py:7: SettingWithCopyWarning: \n",
            "A value is trying to be set on a copy of a slice from a DataFrame.\n",
            "Try using .loc[row_indexer,col_indexer] = value instead\n",
            "\n",
            "See the caveats in the documentation: https://pandas.pydata.org/pandas-docs/stable/user_guide/indexing.html#returning-a-view-versus-a-copy\n",
            "  import sys\n"
          ],
          "name": "stderr"
        }
      ]
    },
    {
      "cell_type": "code",
      "metadata": {
        "colab": {
          "base_uri": "https://localhost:8080/",
          "height": 439
        },
        "id": "nfhUF08Af9ga",
        "outputId": "be5d08db-3e78-42de-d9a4-d7f7cce90fa1"
      },
      "source": [
        "M320191.merge(promoDF1,right_on=[\"Cupo\",\"Marca\",\"Cliente\",\"campañas\"],left_on=[\"Cupo\",\"Marca\",\"Cliente\",\"campañas\"],how=\"left\").drop_duplicates()"
      ],
      "execution_count": 730,
      "outputs": [
        {
          "output_type": "execute_result",
          "data": {
            "text/html": [
              "<div>\n",
              "<style scoped>\n",
              "    .dataframe tbody tr th:only-of-type {\n",
              "        vertical-align: middle;\n",
              "    }\n",
              "\n",
              "    .dataframe tbody tr th {\n",
              "        vertical-align: top;\n",
              "    }\n",
              "\n",
              "    .dataframe thead th {\n",
              "        text-align: right;\n",
              "    }\n",
              "</style>\n",
              "<table border=\"1\" class=\"dataframe\">\n",
              "  <thead>\n",
              "    <tr style=\"text-align: right;\">\n",
              "      <th></th>\n",
              "      <th>Cliente</th>\n",
              "      <th>Año</th>\n",
              "      <th>Mes</th>\n",
              "      <th>ClaseEnvase</th>\n",
              "      <th>SegmentoPrecio</th>\n",
              "      <th>Marca</th>\n",
              "      <th>Cupo</th>\n",
              "      <th>Nr</th>\n",
              "      <th>Hl</th>\n",
              "      <th>Dcto</th>\n",
              "      <th>campañas</th>\n",
              "      <th>var1</th>\n",
              "      <th>var2</th>\n",
              "      <th>var3</th>\n",
              "      <th>var4</th>\n",
              "      <th>var5</th>\n",
              "      <th>var6</th>\n",
              "      <th>Flag_ejecutada</th>\n",
              "      <th>Resta_Mes</th>\n",
              "      <th>Fecha_Hasta</th>\n",
              "      <th>Fecha_Desde</th>\n",
              "      <th>dias</th>\n",
              "    </tr>\n",
              "  </thead>\n",
              "  <tbody>\n",
              "    <tr>\n",
              "      <th>0</th>\n",
              "      <td>14</td>\n",
              "      <td>2019</td>\n",
              "      <td>1</td>\n",
              "      <td>0</td>\n",
              "      <td>3.0</td>\n",
              "      <td>29</td>\n",
              "      <td>9.0</td>\n",
              "      <td>11057.08</td>\n",
              "      <td>0.02</td>\n",
              "      <td>0.0</td>\n",
              "      <td>20191</td>\n",
              "      <td>0.000002</td>\n",
              "      <td>221.1416</td>\n",
              "      <td>1.222590e+08</td>\n",
              "      <td>0.0004</td>\n",
              "      <td>5.528540e+05</td>\n",
              "      <td>11057.10</td>\n",
              "      <td>NaN</td>\n",
              "      <td>NaN</td>\n",
              "      <td>NaN</td>\n",
              "      <td>NaN</td>\n",
              "      <td>NaN</td>\n",
              "    </tr>\n",
              "    <tr>\n",
              "      <th>1</th>\n",
              "      <td>19</td>\n",
              "      <td>2019</td>\n",
              "      <td>1</td>\n",
              "      <td>0</td>\n",
              "      <td>3.0</td>\n",
              "      <td>29</td>\n",
              "      <td>9.0</td>\n",
              "      <td>33171.25</td>\n",
              "      <td>0.05</td>\n",
              "      <td>0.0</td>\n",
              "      <td>20191</td>\n",
              "      <td>0.000002</td>\n",
              "      <td>1658.5625</td>\n",
              "      <td>1.100332e+09</td>\n",
              "      <td>0.0025</td>\n",
              "      <td>6.634250e+05</td>\n",
              "      <td>33171.30</td>\n",
              "      <td>NaN</td>\n",
              "      <td>NaN</td>\n",
              "      <td>NaN</td>\n",
              "      <td>NaN</td>\n",
              "      <td>NaN</td>\n",
              "    </tr>\n",
              "    <tr>\n",
              "      <th>2</th>\n",
              "      <td>38</td>\n",
              "      <td>2019</td>\n",
              "      <td>1</td>\n",
              "      <td>0</td>\n",
              "      <td>3.0</td>\n",
              "      <td>29</td>\n",
              "      <td>9.0</td>\n",
              "      <td>110570.84</td>\n",
              "      <td>0.15</td>\n",
              "      <td>0.0</td>\n",
              "      <td>20191</td>\n",
              "      <td>0.000001</td>\n",
              "      <td>16585.6260</td>\n",
              "      <td>1.222591e+10</td>\n",
              "      <td>0.0225</td>\n",
              "      <td>7.371389e+05</td>\n",
              "      <td>110570.99</td>\n",
              "      <td>NaN</td>\n",
              "      <td>NaN</td>\n",
              "      <td>NaN</td>\n",
              "      <td>NaN</td>\n",
              "      <td>NaN</td>\n",
              "    </tr>\n",
              "    <tr>\n",
              "      <th>3</th>\n",
              "      <td>45</td>\n",
              "      <td>2019</td>\n",
              "      <td>1</td>\n",
              "      <td>0</td>\n",
              "      <td>3.0</td>\n",
              "      <td>29</td>\n",
              "      <td>9.0</td>\n",
              "      <td>223642.01</td>\n",
              "      <td>0.30</td>\n",
              "      <td>0.0</td>\n",
              "      <td>20191</td>\n",
              "      <td>0.000001</td>\n",
              "      <td>67092.6030</td>\n",
              "      <td>5.001575e+10</td>\n",
              "      <td>0.0900</td>\n",
              "      <td>7.454734e+05</td>\n",
              "      <td>223642.31</td>\n",
              "      <td>NaN</td>\n",
              "      <td>NaN</td>\n",
              "      <td>NaN</td>\n",
              "      <td>NaN</td>\n",
              "      <td>NaN</td>\n",
              "    </tr>\n",
              "    <tr>\n",
              "      <th>4</th>\n",
              "      <td>66</td>\n",
              "      <td>2019</td>\n",
              "      <td>1</td>\n",
              "      <td>0</td>\n",
              "      <td>3.0</td>\n",
              "      <td>29</td>\n",
              "      <td>9.0</td>\n",
              "      <td>55910.50</td>\n",
              "      <td>0.08</td>\n",
              "      <td>0.0</td>\n",
              "      <td>20191</td>\n",
              "      <td>0.000001</td>\n",
              "      <td>4472.8400</td>\n",
              "      <td>3.125984e+09</td>\n",
              "      <td>0.0064</td>\n",
              "      <td>6.988812e+05</td>\n",
              "      <td>55910.58</td>\n",
              "      <td>NaN</td>\n",
              "      <td>NaN</td>\n",
              "      <td>NaN</td>\n",
              "      <td>NaN</td>\n",
              "      <td>NaN</td>\n",
              "    </tr>\n",
              "    <tr>\n",
              "      <th>...</th>\n",
              "      <td>...</td>\n",
              "      <td>...</td>\n",
              "      <td>...</td>\n",
              "      <td>...</td>\n",
              "      <td>...</td>\n",
              "      <td>...</td>\n",
              "      <td>...</td>\n",
              "      <td>...</td>\n",
              "      <td>...</td>\n",
              "      <td>...</td>\n",
              "      <td>...</td>\n",
              "      <td>...</td>\n",
              "      <td>...</td>\n",
              "      <td>...</td>\n",
              "      <td>...</td>\n",
              "      <td>...</td>\n",
              "      <td>...</td>\n",
              "      <td>...</td>\n",
              "      <td>...</td>\n",
              "      <td>...</td>\n",
              "      <td>...</td>\n",
              "      <td>...</td>\n",
              "    </tr>\n",
              "    <tr>\n",
              "      <th>1856</th>\n",
              "      <td>14261</td>\n",
              "      <td>2019</td>\n",
              "      <td>1</td>\n",
              "      <td>0</td>\n",
              "      <td>3.0</td>\n",
              "      <td>29</td>\n",
              "      <td>9.0</td>\n",
              "      <td>55285.42</td>\n",
              "      <td>0.08</td>\n",
              "      <td>0.0</td>\n",
              "      <td>20191</td>\n",
              "      <td>0.000001</td>\n",
              "      <td>4422.8336</td>\n",
              "      <td>3.056478e+09</td>\n",
              "      <td>0.0064</td>\n",
              "      <td>6.910678e+05</td>\n",
              "      <td>55285.50</td>\n",
              "      <td>NaN</td>\n",
              "      <td>NaN</td>\n",
              "      <td>NaN</td>\n",
              "      <td>NaN</td>\n",
              "      <td>NaN</td>\n",
              "    </tr>\n",
              "    <tr>\n",
              "      <th>1857</th>\n",
              "      <td>14592</td>\n",
              "      <td>2019</td>\n",
              "      <td>1</td>\n",
              "      <td>0</td>\n",
              "      <td>3.0</td>\n",
              "      <td>29</td>\n",
              "      <td>9.0</td>\n",
              "      <td>2764.27</td>\n",
              "      <td>0.00</td>\n",
              "      <td>0.0</td>\n",
              "      <td>20191</td>\n",
              "      <td>0.000000</td>\n",
              "      <td>0.0000</td>\n",
              "      <td>7.641189e+06</td>\n",
              "      <td>0.0000</td>\n",
              "      <td>inf</td>\n",
              "      <td>2764.27</td>\n",
              "      <td>NaN</td>\n",
              "      <td>NaN</td>\n",
              "      <td>NaN</td>\n",
              "      <td>NaN</td>\n",
              "      <td>NaN</td>\n",
              "    </tr>\n",
              "    <tr>\n",
              "      <th>1858</th>\n",
              "      <td>14735</td>\n",
              "      <td>2019</td>\n",
              "      <td>1</td>\n",
              "      <td>0</td>\n",
              "      <td>3.0</td>\n",
              "      <td>29</td>\n",
              "      <td>9.0</td>\n",
              "      <td>11057.08</td>\n",
              "      <td>0.02</td>\n",
              "      <td>0.0</td>\n",
              "      <td>20191</td>\n",
              "      <td>0.000002</td>\n",
              "      <td>221.1416</td>\n",
              "      <td>1.222590e+08</td>\n",
              "      <td>0.0004</td>\n",
              "      <td>5.528540e+05</td>\n",
              "      <td>11057.10</td>\n",
              "      <td>NaN</td>\n",
              "      <td>NaN</td>\n",
              "      <td>NaN</td>\n",
              "      <td>NaN</td>\n",
              "      <td>NaN</td>\n",
              "    </tr>\n",
              "    <tr>\n",
              "      <th>1859</th>\n",
              "      <td>14816</td>\n",
              "      <td>2019</td>\n",
              "      <td>1</td>\n",
              "      <td>0</td>\n",
              "      <td>3.0</td>\n",
              "      <td>29</td>\n",
              "      <td>9.0</td>\n",
              "      <td>11057.08</td>\n",
              "      <td>0.02</td>\n",
              "      <td>0.0</td>\n",
              "      <td>20191</td>\n",
              "      <td>0.000002</td>\n",
              "      <td>221.1416</td>\n",
              "      <td>1.222590e+08</td>\n",
              "      <td>0.0004</td>\n",
              "      <td>5.528540e+05</td>\n",
              "      <td>11057.10</td>\n",
              "      <td>NaN</td>\n",
              "      <td>NaN</td>\n",
              "      <td>NaN</td>\n",
              "      <td>NaN</td>\n",
              "      <td>NaN</td>\n",
              "    </tr>\n",
              "    <tr>\n",
              "      <th>1860</th>\n",
              "      <td>14818</td>\n",
              "      <td>2019</td>\n",
              "      <td>1</td>\n",
              "      <td>0</td>\n",
              "      <td>3.0</td>\n",
              "      <td>29</td>\n",
              "      <td>9.0</td>\n",
              "      <td>5528.54</td>\n",
              "      <td>0.01</td>\n",
              "      <td>0.0</td>\n",
              "      <td>20191</td>\n",
              "      <td>0.000002</td>\n",
              "      <td>55.2854</td>\n",
              "      <td>3.056475e+07</td>\n",
              "      <td>0.0001</td>\n",
              "      <td>5.528540e+05</td>\n",
              "      <td>5528.55</td>\n",
              "      <td>NaN</td>\n",
              "      <td>NaN</td>\n",
              "      <td>NaN</td>\n",
              "      <td>NaN</td>\n",
              "      <td>NaN</td>\n",
              "    </tr>\n",
              "  </tbody>\n",
              "</table>\n",
              "<p>1861 rows × 22 columns</p>\n",
              "</div>"
            ],
            "text/plain": [
              "      Cliente   Año  Mes  ClaseEnvase  ...  Resta_Mes  Fecha_Hasta  Fecha_Desde  dias\n",
              "0          14  2019    1            0  ...        NaN          NaN          NaN   NaN\n",
              "1          19  2019    1            0  ...        NaN          NaN          NaN   NaN\n",
              "2          38  2019    1            0  ...        NaN          NaN          NaN   NaN\n",
              "3          45  2019    1            0  ...        NaN          NaN          NaN   NaN\n",
              "4          66  2019    1            0  ...        NaN          NaN          NaN   NaN\n",
              "...       ...   ...  ...          ...  ...        ...          ...          ...   ...\n",
              "1856    14261  2019    1            0  ...        NaN          NaN          NaN   NaN\n",
              "1857    14592  2019    1            0  ...        NaN          NaN          NaN   NaN\n",
              "1858    14735  2019    1            0  ...        NaN          NaN          NaN   NaN\n",
              "1859    14816  2019    1            0  ...        NaN          NaN          NaN   NaN\n",
              "1860    14818  2019    1            0  ...        NaN          NaN          NaN   NaN\n",
              "\n",
              "[1861 rows x 22 columns]"
            ]
          },
          "metadata": {
            "tags": []
          },
          "execution_count": 730
        }
      ]
    },
    {
      "cell_type": "code",
      "metadata": {
        "colab": {
          "base_uri": "https://localhost:8080/",
          "height": 439
        },
        "id": "QKupiTPzgAu0",
        "outputId": "c0f55f4e-3924-474a-d997-7af7124e79fb"
      },
      "source": [
        "M3[M3['campañas']=='20191']"
      ],
      "execution_count": 731,
      "outputs": [
        {
          "output_type": "execute_result",
          "data": {
            "text/html": [
              "<div>\n",
              "<style scoped>\n",
              "    .dataframe tbody tr th:only-of-type {\n",
              "        vertical-align: middle;\n",
              "    }\n",
              "\n",
              "    .dataframe tbody tr th {\n",
              "        vertical-align: top;\n",
              "    }\n",
              "\n",
              "    .dataframe thead th {\n",
              "        text-align: right;\n",
              "    }\n",
              "</style>\n",
              "<table border=\"1\" class=\"dataframe\">\n",
              "  <thead>\n",
              "    <tr style=\"text-align: right;\">\n",
              "      <th></th>\n",
              "      <th>Cliente</th>\n",
              "      <th>Año</th>\n",
              "      <th>Mes</th>\n",
              "      <th>ClaseEnvase</th>\n",
              "      <th>SegmentoPrecio</th>\n",
              "      <th>Marca</th>\n",
              "      <th>Cupo</th>\n",
              "      <th>Nr</th>\n",
              "      <th>Hl</th>\n",
              "      <th>Dcto</th>\n",
              "      <th>campañas</th>\n",
              "      <th>var1</th>\n",
              "      <th>var2</th>\n",
              "      <th>var3</th>\n",
              "      <th>var4</th>\n",
              "      <th>var5</th>\n",
              "      <th>var6</th>\n",
              "    </tr>\n",
              "  </thead>\n",
              "  <tbody>\n",
              "    <tr>\n",
              "      <th>3529</th>\n",
              "      <td>14</td>\n",
              "      <td>2019</td>\n",
              "      <td>1</td>\n",
              "      <td>0</td>\n",
              "      <td>3.0</td>\n",
              "      <td>29</td>\n",
              "      <td>9.0</td>\n",
              "      <td>11057.08</td>\n",
              "      <td>0.02</td>\n",
              "      <td>0.0</td>\n",
              "      <td>20191</td>\n",
              "      <td>0.000002</td>\n",
              "      <td>221.1416</td>\n",
              "      <td>1.222590e+08</td>\n",
              "      <td>0.0004</td>\n",
              "      <td>5.528540e+05</td>\n",
              "      <td>11057.10</td>\n",
              "    </tr>\n",
              "    <tr>\n",
              "      <th>3753</th>\n",
              "      <td>19</td>\n",
              "      <td>2019</td>\n",
              "      <td>1</td>\n",
              "      <td>0</td>\n",
              "      <td>3.0</td>\n",
              "      <td>29</td>\n",
              "      <td>9.0</td>\n",
              "      <td>33171.25</td>\n",
              "      <td>0.05</td>\n",
              "      <td>0.0</td>\n",
              "      <td>20191</td>\n",
              "      <td>0.000002</td>\n",
              "      <td>1658.5625</td>\n",
              "      <td>1.100332e+09</td>\n",
              "      <td>0.0025</td>\n",
              "      <td>6.634250e+05</td>\n",
              "      <td>33171.30</td>\n",
              "    </tr>\n",
              "    <tr>\n",
              "      <th>4375</th>\n",
              "      <td>38</td>\n",
              "      <td>2019</td>\n",
              "      <td>1</td>\n",
              "      <td>0</td>\n",
              "      <td>3.0</td>\n",
              "      <td>29</td>\n",
              "      <td>9.0</td>\n",
              "      <td>110570.84</td>\n",
              "      <td>0.15</td>\n",
              "      <td>0.0</td>\n",
              "      <td>20191</td>\n",
              "      <td>0.000001</td>\n",
              "      <td>16585.6260</td>\n",
              "      <td>1.222591e+10</td>\n",
              "      <td>0.0225</td>\n",
              "      <td>7.371389e+05</td>\n",
              "      <td>110570.99</td>\n",
              "    </tr>\n",
              "    <tr>\n",
              "      <th>4623</th>\n",
              "      <td>45</td>\n",
              "      <td>2019</td>\n",
              "      <td>1</td>\n",
              "      <td>0</td>\n",
              "      <td>3.0</td>\n",
              "      <td>29</td>\n",
              "      <td>9.0</td>\n",
              "      <td>223642.01</td>\n",
              "      <td>0.30</td>\n",
              "      <td>0.0</td>\n",
              "      <td>20191</td>\n",
              "      <td>0.000001</td>\n",
              "      <td>67092.6030</td>\n",
              "      <td>5.001575e+10</td>\n",
              "      <td>0.0900</td>\n",
              "      <td>7.454734e+05</td>\n",
              "      <td>223642.31</td>\n",
              "    </tr>\n",
              "    <tr>\n",
              "      <th>5210</th>\n",
              "      <td>66</td>\n",
              "      <td>2019</td>\n",
              "      <td>1</td>\n",
              "      <td>0</td>\n",
              "      <td>3.0</td>\n",
              "      <td>29</td>\n",
              "      <td>9.0</td>\n",
              "      <td>55910.50</td>\n",
              "      <td>0.08</td>\n",
              "      <td>0.0</td>\n",
              "      <td>20191</td>\n",
              "      <td>0.000001</td>\n",
              "      <td>4472.8400</td>\n",
              "      <td>3.125984e+09</td>\n",
              "      <td>0.0064</td>\n",
              "      <td>6.988812e+05</td>\n",
              "      <td>55910.58</td>\n",
              "    </tr>\n",
              "    <tr>\n",
              "      <th>...</th>\n",
              "      <td>...</td>\n",
              "      <td>...</td>\n",
              "      <td>...</td>\n",
              "      <td>...</td>\n",
              "      <td>...</td>\n",
              "      <td>...</td>\n",
              "      <td>...</td>\n",
              "      <td>...</td>\n",
              "      <td>...</td>\n",
              "      <td>...</td>\n",
              "      <td>...</td>\n",
              "      <td>...</td>\n",
              "      <td>...</td>\n",
              "      <td>...</td>\n",
              "      <td>...</td>\n",
              "      <td>...</td>\n",
              "      <td>...</td>\n",
              "    </tr>\n",
              "    <tr>\n",
              "      <th>1886921</th>\n",
              "      <td>14261</td>\n",
              "      <td>2019</td>\n",
              "      <td>1</td>\n",
              "      <td>0</td>\n",
              "      <td>3.0</td>\n",
              "      <td>29</td>\n",
              "      <td>9.0</td>\n",
              "      <td>55285.42</td>\n",
              "      <td>0.08</td>\n",
              "      <td>0.0</td>\n",
              "      <td>20191</td>\n",
              "      <td>0.000001</td>\n",
              "      <td>4422.8336</td>\n",
              "      <td>3.056478e+09</td>\n",
              "      <td>0.0064</td>\n",
              "      <td>6.910678e+05</td>\n",
              "      <td>55285.50</td>\n",
              "    </tr>\n",
              "    <tr>\n",
              "      <th>1890221</th>\n",
              "      <td>14592</td>\n",
              "      <td>2019</td>\n",
              "      <td>1</td>\n",
              "      <td>0</td>\n",
              "      <td>3.0</td>\n",
              "      <td>29</td>\n",
              "      <td>9.0</td>\n",
              "      <td>2764.27</td>\n",
              "      <td>0.00</td>\n",
              "      <td>0.0</td>\n",
              "      <td>20191</td>\n",
              "      <td>0.000000</td>\n",
              "      <td>0.0000</td>\n",
              "      <td>7.641189e+06</td>\n",
              "      <td>0.0000</td>\n",
              "      <td>inf</td>\n",
              "      <td>2764.27</td>\n",
              "    </tr>\n",
              "    <tr>\n",
              "      <th>1891482</th>\n",
              "      <td>14735</td>\n",
              "      <td>2019</td>\n",
              "      <td>1</td>\n",
              "      <td>0</td>\n",
              "      <td>3.0</td>\n",
              "      <td>29</td>\n",
              "      <td>9.0</td>\n",
              "      <td>11057.08</td>\n",
              "      <td>0.02</td>\n",
              "      <td>0.0</td>\n",
              "      <td>20191</td>\n",
              "      <td>0.000002</td>\n",
              "      <td>221.1416</td>\n",
              "      <td>1.222590e+08</td>\n",
              "      <td>0.0004</td>\n",
              "      <td>5.528540e+05</td>\n",
              "      <td>11057.10</td>\n",
              "    </tr>\n",
              "    <tr>\n",
              "      <th>1892202</th>\n",
              "      <td>14816</td>\n",
              "      <td>2019</td>\n",
              "      <td>1</td>\n",
              "      <td>0</td>\n",
              "      <td>3.0</td>\n",
              "      <td>29</td>\n",
              "      <td>9.0</td>\n",
              "      <td>11057.08</td>\n",
              "      <td>0.02</td>\n",
              "      <td>0.0</td>\n",
              "      <td>20191</td>\n",
              "      <td>0.000002</td>\n",
              "      <td>221.1416</td>\n",
              "      <td>1.222590e+08</td>\n",
              "      <td>0.0004</td>\n",
              "      <td>5.528540e+05</td>\n",
              "      <td>11057.10</td>\n",
              "    </tr>\n",
              "    <tr>\n",
              "      <th>1892251</th>\n",
              "      <td>14818</td>\n",
              "      <td>2019</td>\n",
              "      <td>1</td>\n",
              "      <td>0</td>\n",
              "      <td>3.0</td>\n",
              "      <td>29</td>\n",
              "      <td>9.0</td>\n",
              "      <td>5528.54</td>\n",
              "      <td>0.01</td>\n",
              "      <td>0.0</td>\n",
              "      <td>20191</td>\n",
              "      <td>0.000002</td>\n",
              "      <td>55.2854</td>\n",
              "      <td>3.056475e+07</td>\n",
              "      <td>0.0001</td>\n",
              "      <td>5.528540e+05</td>\n",
              "      <td>5528.55</td>\n",
              "    </tr>\n",
              "  </tbody>\n",
              "</table>\n",
              "<p>1861 rows × 17 columns</p>\n",
              "</div>"
            ],
            "text/plain": [
              "         Cliente   Año  Mes  ...    var4          var5       var6\n",
              "3529          14  2019    1  ...  0.0004  5.528540e+05   11057.10\n",
              "3753          19  2019    1  ...  0.0025  6.634250e+05   33171.30\n",
              "4375          38  2019    1  ...  0.0225  7.371389e+05  110570.99\n",
              "4623          45  2019    1  ...  0.0900  7.454734e+05  223642.31\n",
              "5210          66  2019    1  ...  0.0064  6.988812e+05   55910.58\n",
              "...          ...   ...  ...  ...     ...           ...        ...\n",
              "1886921    14261  2019    1  ...  0.0064  6.910678e+05   55285.50\n",
              "1890221    14592  2019    1  ...  0.0000           inf    2764.27\n",
              "1891482    14735  2019    1  ...  0.0004  5.528540e+05   11057.10\n",
              "1892202    14816  2019    1  ...  0.0004  5.528540e+05   11057.10\n",
              "1892251    14818  2019    1  ...  0.0001  5.528540e+05    5528.55\n",
              "\n",
              "[1861 rows x 17 columns]"
            ]
          },
          "metadata": {
            "tags": []
          },
          "execution_count": 731
        }
      ]
    },
    {
      "cell_type": "code",
      "metadata": {
        "colab": {
          "base_uri": "https://localhost:8080/",
          "height": 69
        },
        "id": "it88enq3tS8Q",
        "outputId": "27e13317-5453-4aee-ca9f-390e9b73f562"
      },
      "source": [
        "M3201810_v1"
      ],
      "execution_count": 732,
      "outputs": [
        {
          "output_type": "execute_result",
          "data": {
            "text/html": [
              "<div>\n",
              "<style scoped>\n",
              "    .dataframe tbody tr th:only-of-type {\n",
              "        vertical-align: middle;\n",
              "    }\n",
              "\n",
              "    .dataframe tbody tr th {\n",
              "        vertical-align: top;\n",
              "    }\n",
              "\n",
              "    .dataframe thead th {\n",
              "        text-align: right;\n",
              "    }\n",
              "</style>\n",
              "<table border=\"1\" class=\"dataframe\">\n",
              "  <thead>\n",
              "    <tr style=\"text-align: right;\">\n",
              "      <th></th>\n",
              "      <th>Cliente</th>\n",
              "      <th>Año</th>\n",
              "      <th>Mes</th>\n",
              "      <th>ClaseEnvase</th>\n",
              "      <th>SegmentoPrecio</th>\n",
              "      <th>Marca</th>\n",
              "      <th>Cupo</th>\n",
              "      <th>Nr</th>\n",
              "      <th>Hl</th>\n",
              "      <th>Dcto</th>\n",
              "      <th>campañas</th>\n",
              "      <th>var1</th>\n",
              "      <th>var2</th>\n",
              "      <th>var3</th>\n",
              "      <th>var4</th>\n",
              "      <th>var5</th>\n",
              "      <th>var6</th>\n",
              "      <th>Flag_ejecutada</th>\n",
              "      <th>Resta_Mes</th>\n",
              "      <th>Fecha_Hasta</th>\n",
              "      <th>Fecha_Desde</th>\n",
              "      <th>dias</th>\n",
              "    </tr>\n",
              "  </thead>\n",
              "  <tbody>\n",
              "  </tbody>\n",
              "</table>\n",
              "</div>"
            ],
            "text/plain": [
              "Empty DataFrame\n",
              "Columns: [Cliente, Año, Mes, ClaseEnvase, SegmentoPrecio, Marca, Cupo, Nr, Hl, Dcto, campañas, var1, var2, var3, var4, var5, var6, Flag_ejecutada, Resta_Mes, Fecha_Hasta, Fecha_Desde, dias]\n",
              "Index: []"
            ]
          },
          "metadata": {
            "tags": []
          },
          "execution_count": 732
        }
      ]
    },
    {
      "cell_type": "code",
      "metadata": {
        "id": "TzpcpLQeKNTm"
      },
      "source": [
        "# train_M3=pd.concat([M320192_v1,M320193_v1,M320194_v1,M320195_v1,M320196_v1,M320197_v1])\n",
        "train_M3=pd.concat([M3201811_v1,M3201812_v1, M320192_v1,M320193_v1,M320194_v1,M320195_v1,M320196_v1,M320197_v1])# fijo ->0.8105\n",
        "# train_M3=pd.concat([M3201811_v1,M3201812_v1, M320192_v1,M320193_v1,M320194_v1,M320195_v1,M320196_v1,M320197_v1])\n",
        "test_M3=M320198_v1\n",
        "\n",
        "\n",
        "train_M3_1=train_M3[['Cliente', 'Marca',\n",
        "       'Cupo', 'Nr', 'Hl', 'dias',\"var1\",\"var2\",\"var3\",\"var5\",\"var6\"]]\n",
        "# train_M3_1=train_M3[['Cliente', 'Marca','Flag_ejecutada',\n",
        "#        'Cupo', 'Nr', 'Hl', 'dias',\"var1\",\"var2\",\"var3\",\"var5\",\"var6\"]]\n",
        "test_M3_1 = test_M3[['Cliente', 'Marca',\n",
        "       'Cupo', 'Nr', 'Hl', 'Flag_ejecutada', 'dias',\"var1\",\"var2\",\"var3\",\"var5\",\"var6\"]]\n",
        "Train_M3=test_M3_1[[\"Cliente\",\"Marca\",\"Cupo\",\"Flag_ejecutada\"]].merge(train_M3_1.groupby([\"Cliente\",\"Cupo\",\"Marca\"]).sum().add_prefix(\"SUM_\").reset_index(),\n",
        "                                                            on=[\"Cliente\",\"Marca\",\"Cupo\"],how=\"inner\").fillna(0)\n",
        "\n",
        "Train_M3=Train_M3.merge(train_M3_1.groupby([\"Cliente\",\"Cupo\",\"Marca\"]).mean().add_prefix(\"MEAN_\").reset_index(),\n",
        "                                                            on=[\"Cliente\",\"Marca\",\"Cupo\"],how=\"inner\").fillna(0)\n",
        "Train_M3=Train_M3.merge(train_M3_1[[\"Cliente\",\"Cupo\",\"Marca\",\"var1\",\"var2\",\"var5\",\"dias\"]].groupby([\"Cliente\",\"Cupo\",\"Marca\"]).min().add_prefix(\"Max_\").reset_index(),\n",
        "                                                            on=[\"Cliente\",\"Marca\",\"Cupo\"],how=\"inner\").fillna(0)\n"
      ],
      "execution_count": 733,
      "outputs": []
    },
    {
      "cell_type": "code",
      "metadata": {
        "colab": {
          "base_uri": "https://localhost:8080/"
        },
        "id": "92GnMKa7OgWH",
        "outputId": "eaaabd6e-741c-4b37-d06a-2a413cf76dd8"
      },
      "source": [
        "train_M3['Flag_ejecutada'].value_counts()"
      ],
      "execution_count": 734,
      "outputs": [
        {
          "output_type": "execute_result",
          "data": {
            "text/plain": [
              "0    1777\n",
              "1     327\n",
              "Name: Flag_ejecutada, dtype: int64"
            ]
          },
          "metadata": {
            "tags": []
          },
          "execution_count": 734
        }
      ]
    },
    {
      "cell_type": "code",
      "metadata": {
        "id": "j3Tr7TwxNv4_"
      },
      "source": [
        "# AGREGADO - nueva columna Flag_ofrecida contiene las ofertas que\n",
        "# # se le hicieron al cliente en el periodo seleccionado\n",
        "# train_M3_1_ofertas_ofrecidas = train_M3_1.groupby(['Cliente'])[['Flag_ejecutada']].count().reset_index()\n",
        "# train_M3_1_ofertas_ofrecidas.rename(columns={'Flag_ejecutada':'Flag_ofrecida'},inplace=True)\n",
        "# Train_M3 = Train_M3.merge(train_M3_1_ofertas_ofrecidas,on='Cliente',how='left')"
      ],
      "execution_count": 735,
      "outputs": []
    },
    {
      "cell_type": "code",
      "metadata": {
        "id": "apLvIoYGKNTn"
      },
      "source": [
        "Train_M3=Train_M3.merge(clientes_atributos[[\"Cliente\",\"Estrato\",\"EF\"]],on=\"Cliente\",how=\"left\")"
      ],
      "execution_count": 736,
      "outputs": []
    },
    {
      "cell_type": "code",
      "metadata": {
        "id": "SUiAcQNjKNTn"
      },
      "source": [
        "# Train_M3=Train_M3.merge(clusters[['Cliente','Cluster_C4','Cluster_C5']],on=\"Cliente\",how=\"left\")\n",
        "#Train_M3=Train_M3.merge(clusters[['Cliente','Cluster_C2','Cluster_C3','Cluster_C4']],on=\"Cliente\",how=\"left\")\n",
        "#Train_M3=Train_M3.merge(clusters[['Cliente','Cluster_C5']],on=\"Cliente\",how=\"left\")"
      ],
      "execution_count": 737,
      "outputs": []
    },
    {
      "cell_type": "code",
      "metadata": {
        "id": "dDuEclrPKNTn"
      },
      "source": [
        "\n",
        "# test_M3=pd.concat([M320193_v1,M320194_v1,M320195_v1,M320196_v1,M320197_v1,M320198_v1])\n",
        "test_M3=pd.concat([M3201812_v1, M320192_v1,M320193_v1,M320194_v1,M320195_v1,M320196_v1,M320197_v1,M320198_v1]) # bueno\n",
        "# test_M3=pd.concat([M3201811_v1,\n",
        "#                    M3201812_v1, M320192_v1,M320193_v1,M320194_v1,M320195_v1,M320196_v1,M320197_v1,M320198_v1])\n",
        "\n",
        "test_M3_1=test_M3[['Cliente',  'Marca',\n",
        "       'Cupo', 'Nr', 'Hl', 'Flag_ejecutada', 'dias',\"var1\",\"var2\",\"var3\",\"var5\",\"var6\"]]\n",
        "\n",
        "Test_M3=testM3[[\"Cliente\",\"Marca\",\"Cupo\"]].merge(test_M3_1.groupby([\"Cliente\",\"Cupo\",\"Marca\"]).sum().add_prefix(\"SUM_\").reset_index(),\n",
        "                                                            on=[\"Cliente\",\"Marca\",\"Cupo\"],how=\"inner\").fillna(0)\n",
        "Test_M3=Test_M3.merge(test_M3_1.groupby([\"Cliente\",\"Cupo\",\"Marca\"]).mean().add_prefix(\"MEAN_\").reset_index(),\n",
        "                                                            on=[\"Cliente\",\"Marca\",\"Cupo\"],how=\"inner\").fillna(0)\n",
        "Test_M3=Test_M3.merge(test_M3_1[[\"Cliente\",\"Cupo\",\"Marca\",\"var1\",\"var2\",\"var5\",\"dias\"]].groupby([\"Cliente\",\"Cupo\",\"Marca\"]).min().add_prefix(\"Max_\").reset_index(),\n",
        "                                                           on=[\"Cliente\",\"Marca\",\"Cupo\"],how=\"inner\").fillna(0)"
      ],
      "execution_count": 738,
      "outputs": []
    },
    {
      "cell_type": "code",
      "metadata": {
        "id": "l-tGE5D4N37W"
      },
      "source": [
        "# AGREGADO - nueva columna Flag_ofrecida contiene las ofertas que\n",
        "# se le hicieron al cliente en el periodo seleccionado\n",
        "# test_M3_1_ofertas_ofrecidas = test_M3_1.groupby(['Cliente'])[['Flag_ejecutada']].count().reset_index()\n",
        "# test_M3_1_ofertas_ofrecidas.rename(columns={'Flag_ejecutada':'Flag_ofrecida'},inplace=True)\n",
        "# Test_M3 = Test_M3.merge(test_M3_1_ofertas_ofrecidas,on='Cliente',how='left')"
      ],
      "execution_count": 739,
      "outputs": []
    },
    {
      "cell_type": "code",
      "metadata": {
        "id": "0nCNcZE-KNTn"
      },
      "source": [
        "Test_M3=Test_M3.merge(clientes_atributos[[\"Cliente\",\"Estrato\",\"EF\"]],on=\"Cliente\",how=\"left\")"
      ],
      "execution_count": 740,
      "outputs": []
    },
    {
      "cell_type": "code",
      "metadata": {
        "id": "ml4j59CJKNTn"
      },
      "source": [
        "# Test_M3=Test_M3.merge(clusters[['Cliente','Cluster_C4','Cluster_C5']],on=\"Cliente\",how=\"left\")\n",
        "# Test_M3=Test_M3.merge(clusters[['Cliente','Cluster_C2','Cluster_C3','Cluster_C4']],on=\"Cliente\",how=\"left\")\n",
        "# Test_M3=Test_M3.merge(clusters[['Cliente','Cluster_C5']],on=\"Cliente\",how=\"left\")"
      ],
      "execution_count": 741,
      "outputs": []
    },
    {
      "cell_type": "code",
      "metadata": {
        "id": "fcLcmXDEdfIQ"
      },
      "source": [
        ""
      ],
      "execution_count": 741,
      "outputs": []
    },
    {
      "cell_type": "code",
      "metadata": {
        "colab": {
          "base_uri": "https://localhost:8080/"
        },
        "id": "Qlt040JeKNTn",
        "outputId": "219f3d8b-c46d-4a87-cff3-bc53e340bcc0"
      },
      "source": [
        "# MODELADO\n",
        "import pandas as pd \n",
        "import numpy as np \n",
        "import matplotlib.pyplot as plt \n",
        "import gc\n",
        "import os\n",
        "import logging\n",
        "import datetime\n",
        "import warnings\n",
        "import numpy as np\n",
        "import pandas as pd\n",
        "import seaborn as sns\n",
        "import lightgbm as lgb\n",
        "from tqdm import tqdm_notebook\n",
        "import matplotlib.pyplot as plt\n",
        "from sklearn.metrics import mean_squared_error\n",
        "from sklearn.metrics import roc_auc_score, roc_curve\n",
        "from sklearn.model_selection import StratifiedKFold\n",
        "param = {\n",
        "    'bagging_freq': 5, #5\n",
        "    'bagging_fraction': 0.4, #0.4\n",
        "    'boost_from_average':'false',\n",
        "    'min_child_samples': 30,\n",
        "    'boost': 'gbdt',\n",
        "    'feature_fraction': 0.5, #0.05\n",
        "    'learning_rate': 0.01, #0.01\n",
        "    'max_depth': -1,  \n",
        "    'metric':'auc',\n",
        "    'min_data_in_leaf': 80, #80\n",
        "    'min_sum_hessian_in_leaf': 10, #10\n",
        "    'num_leaves': 13, #13\n",
        "    'num_threads': 8, \n",
        "    'tree_learner': 'serial',\n",
        "    'objective': 'binary', \n",
        "    'verbosity': 1,\n",
        "    \"is_unbalance\":False,\n",
        "    \"random_state\":1234\n",
        "}\n",
        "train_df=Train_M3\n",
        "test_df=Test_M3\n",
        "features = [c for c in train_df.columns if c not in [\"Cliente\",\"Cupo\",\"Marca\",\"Flag_ejecutada\"]]#\"SUM_flagdigital\",\"SUM_flagpedidoanulado\",\"flagsupervisor\"]]\n",
        "target=train_df[\"Flag_ejecutada\"]\n",
        "train_df.fillna(train_df.mean(), inplace=True) #reemplazar nan con media\n",
        "test_df.fillna(test_df.mean(), inplace=True) \n",
        "\n",
        "folds = StratifiedKFold(n_splits=5, shuffle=True, random_state=44000)\n",
        "oof = np.zeros(len(train_df))\n",
        "predictions = np.zeros(len(test_df))\n",
        "feature_importance_df = pd.DataFrame()\n",
        "\n",
        "for fold_, (trn_idx, val_idx) in enumerate(folds.split(train_df.values, target.values)):\n",
        "    print(\"Fold {}\".format(fold_))\n",
        "    trn_data = lgb.Dataset(train_df.iloc[trn_idx][features], label=target.iloc[trn_idx])\n",
        "    val_data = lgb.Dataset(train_df.iloc[val_idx][features], label=target.iloc[val_idx])\n",
        "\n",
        "    num_round = 10000\n",
        "    clf = lgb.train(param, trn_data, num_round, valid_sets = [trn_data, val_data], verbose_eval=1000, early_stopping_rounds = 1000)\n",
        "    oof[val_idx] = clf.predict(train_df.iloc[val_idx][features], num_iteration=clf.best_iteration)\n",
        "    \n",
        "    fold_importance_df = pd.DataFrame()\n",
        "    fold_importance_df[\"Feature\"] = features\n",
        "    fold_importance_df[\"importance\"] = clf.feature_importance()\n",
        "    fold_importance_df[\"fold\"] = fold_ + 1\n",
        "    feature_importance_df = pd.concat([feature_importance_df, fold_importance_df], axis=0)\n",
        "    \n",
        "    predictions += clf.predict(test_df[features], num_iteration=clf.best_iteration) / folds.n_splits\n",
        "\n",
        "print(\"CV score: {:<8.5f}\".format(roc_auc_score(target, oof)))   "
      ],
      "execution_count": 742,
      "outputs": [
        {
          "output_type": "stream",
          "text": [
            "Fold 0\n",
            "Training until validation scores don't improve for 1000 rounds.\n",
            "[1000]\ttraining's auc: 0.675232\tvalid_1's auc: 0.47043\n",
            "Early stopping, best iteration is:\n",
            "[85]\ttraining's auc: 0.665194\tvalid_1's auc: 0.592742\n",
            "Fold 1\n",
            "Training until validation scores don't improve for 1000 rounds.\n",
            "[1000]\ttraining's auc: 0.678584\tvalid_1's auc: 0.397749\n",
            "Early stopping, best iteration is:\n",
            "[7]\ttraining's auc: 0.593454\tvalid_1's auc: 0.653846\n",
            "Fold 2\n",
            "Training until validation scores don't improve for 1000 rounds.\n",
            "[1000]\ttraining's auc: 0.687647\tvalid_1's auc: 0.273374\n",
            "Early stopping, best iteration is:\n",
            "[1]\ttraining's auc: 0.578238\tvalid_1's auc: 0.357724\n",
            "Fold 3\n",
            "Training until validation scores don't improve for 1000 rounds.\n",
            "[1000]\ttraining's auc: 0.661837\tvalid_1's auc: 0.349932\n",
            "Early stopping, best iteration is:\n",
            "[1]\ttraining's auc: 0.57919\tvalid_1's auc: 0.390244\n",
            "Fold 4\n",
            "Training until validation scores don't improve for 1000 rounds.\n",
            "[1000]\ttraining's auc: 0.694064\tvalid_1's auc: 0.488144\n",
            "Early stopping, best iteration is:\n",
            "[12]\ttraining's auc: 0.614149\tvalid_1's auc: 0.580623\n",
            "CV score: 0.49381 \n"
          ],
          "name": "stdout"
        }
      ]
    },
    {
      "cell_type": "code",
      "metadata": {
        "colab": {
          "base_uri": "https://localhost:8080/",
          "height": 1000
        },
        "id": "FQISY6UuKNTn",
        "outputId": "a10fbb74-4d4d-4871-faeb-774c6970a2ae"
      },
      "source": [
        "cols = (feature_importance_df[[\"Feature\", \"importance\"]]\n",
        "        .groupby(\"Feature\")\n",
        "        .mean()\n",
        "        .sort_values(by=\"importance\", ascending=False)[:150].index)\n",
        "best_features = feature_importance_df.loc[feature_importance_df.Feature.isin(cols)]\n",
        "\n",
        "plt.figure(figsize=(14,28))\n",
        "sns.barplot(x=\"importance\", y=\"Feature\", data=best_features.sort_values(by=\"importance\",ascending=False))\n",
        "plt.title('Features importance (averaged/folds)')\n",
        "plt.tight_layout()\n"
      ],
      "execution_count": 743,
      "outputs": [
        {
          "output_type": "display_data",
          "data": {
            "image/png": "[encoded data removed]",
            "text/plain": [
              "<Figure size 1008x2016 with 1 Axes>"
            ]
          },
          "metadata": {
            "tags": [],
            "needs_background": "light"
          }
        }
      ]
    },
    {
      "cell_type": "code",
      "metadata": {
        "id": "dPWVzuHiKNTo"
      },
      "source": [
        "\n",
        "Test_M3[\"pred\"] = predictions\n",
        "t3= test[(test[\"Marca\"]==29)&(test[\"Cupo\"]==9)]\n",
        "t3=t3.merge(Test_M3[[\"Cliente\",\"Marca\",\"Cupo\",\"pred\"]],on=[\"Cliente\",\"Marca\",\"Cupo\"],how=\"left\")\n",
        "t3[\"Ejecuto_Promo\"] = t3[\"pred\"].fillna(0)"
      ],
      "execution_count": 744,
      "outputs": []
    },
    {
      "cell_type": "code",
      "metadata": {
        "colab": {
          "base_uri": "https://localhost:8080/",
          "height": 142
        },
        "id": "flzirtySKNTo",
        "outputId": "b4903ad9-fed0-40f3-eee1-5ba90b5e44ef"
      },
      "source": [
        "consolidado= pd.concat([t1, t2, t3])\n",
        "del consolidado[\"pred\"]\n",
        "final=test.merge(consolidado,on=[\"Cliente\",\"Marca\",\"Cupo\"],how=\"left\")\n",
        "del final[\"Ejecuto_Promo_x\"]\n",
        "final=final.rename(columns={\"Ejecuto_Promo_y\":\"Ejecuto_Promo\"})#.to_csv(\"intento4.csv\",index=False)\n",
        "P1=promoDF1[promoDF1[\"campañas\"]==\"20199\"][[\"Cupo\",\"Marca\",\"Cliente\",\"Flag_ejecutada\"]]\n",
        "P1[P1[\"Flag_ejecutada\"]==1]"
      ],
      "execution_count": 745,
      "outputs": [
        {
          "output_type": "execute_result",
          "data": {
            "text/html": [
              "<div>\n",
              "<style scoped>\n",
              "    .dataframe tbody tr th:only-of-type {\n",
              "        vertical-align: middle;\n",
              "    }\n",
              "\n",
              "    .dataframe tbody tr th {\n",
              "        vertical-align: top;\n",
              "    }\n",
              "\n",
              "    .dataframe thead th {\n",
              "        text-align: right;\n",
              "    }\n",
              "</style>\n",
              "<table border=\"1\" class=\"dataframe\">\n",
              "  <thead>\n",
              "    <tr style=\"text-align: right;\">\n",
              "      <th></th>\n",
              "      <th>Cupo</th>\n",
              "      <th>Marca</th>\n",
              "      <th>Cliente</th>\n",
              "      <th>Flag_ejecutada</th>\n",
              "    </tr>\n",
              "  </thead>\n",
              "  <tbody>\n",
              "    <tr>\n",
              "      <th>284831</th>\n",
              "      <td>16.0</td>\n",
              "      <td>40</td>\n",
              "      <td>1584</td>\n",
              "      <td>1</td>\n",
              "    </tr>\n",
              "    <tr>\n",
              "      <th>416358</th>\n",
              "      <td>16.0</td>\n",
              "      <td>40</td>\n",
              "      <td>367</td>\n",
              "      <td>1</td>\n",
              "    </tr>\n",
              "    <tr>\n",
              "      <th>416370</th>\n",
              "      <td>16.0</td>\n",
              "      <td>40</td>\n",
              "      <td>2113</td>\n",
              "      <td>1</td>\n",
              "    </tr>\n",
              "  </tbody>\n",
              "</table>\n",
              "</div>"
            ],
            "text/plain": [
              "        Cupo  Marca  Cliente  Flag_ejecutada\n",
              "284831  16.0     40     1584               1\n",
              "416358  16.0     40      367               1\n",
              "416370  16.0     40     2113               1"
            ]
          },
          "metadata": {
            "tags": []
          },
          "execution_count": 745
        }
      ]
    },
    {
      "cell_type": "code",
      "metadata": {
        "id": "uXumIh8zKNTo"
      },
      "source": [
        "f1=consolidado.merge(P1[P1[\"Flag_ejecutada\"]==1],on=[\"Cliente\",\"Marca\",\"Cupo\"],how=\"left\").fillna(0)\n",
        "f1[\"Ejecuto_Promo\"]=f1[\"Flag_ejecutada\"] + f1[\"Ejecuto_Promo\"]\n",
        "f1[\"Ejecuto_Promo\"]=np.where(f1[\"Ejecuto_Promo\"]>1,1,f1[\"Ejecuto_Promo\"])\n",
        "del f1[\"Flag_ejecutada\"]\n",
        "f1.to_csv(\"intentoFinal.csv\",index=False)"
      ],
      "execution_count": 746,
      "outputs": []
    }
  ]
}